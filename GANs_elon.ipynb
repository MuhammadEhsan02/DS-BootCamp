{
  "nbformat": 4,
  "nbformat_minor": 0,
  "metadata": {
    "colab": {
      "provenance": [],
      "gpuType": "T4"
    },
    "kernelspec": {
      "name": "python3",
      "display_name": "Python 3"
    },
    "language_info": {
      "name": "python"
    },
    "accelerator": "GPU"
  },
  "cells": [
    {
      "cell_type": "code",
      "source": [
        "import warnings\n"
      ],
      "metadata": {
        "id": "F72JHlg8jjK3"
      },
      "execution_count": null,
      "outputs": []
    },
    {
      "cell_type": "code",
      "source": [
        "!pip install tensorflow\n",
        "!pip install keras"
      ],
      "metadata": {
        "id": "x0y-HP9fQMBG"
      },
      "execution_count": null,
      "outputs": []
    },
    {
      "cell_type": "code",
      "source": [
        "import numpy as np\n",
        "import pandas as pd\n",
        "import tensorflow as tf\n",
        "from tensorflow.keras.models import Sequential\n",
        "from tensorflow.keras.layers import Dense, Reshape, Flatten\n",
        "from tensorflow.keras.layers import BatchNormalization, LeakyReLU\n",
        "from tensorflow.keras.optimizers import Adam\n",
        "import matplotlib.pyplot as plt\n",
        "from keras import preprocessing\n",
        "from keras.models import Sequential\n",
        "from keras.layers import Conv2D,Dropout,Dense,Flatten,Conv2DTranspose,BatchNormalization,LeakyReLU,Reshape"
      ],
      "metadata": {
        "id": "z7VLXYuwOQUy"
      },
      "execution_count": null,
      "outputs": []
    },
    {
      "cell_type": "code",
      "execution_count": null,
      "metadata": {
        "colab": {
          "base_uri": "https://localhost:8080/"
        },
        "id": "QktHXD_uLVvT",
        "outputId": "c4320fb1-20f3-4de1-af6f-9d0359325c7e"
      },
      "outputs": [
        {
          "output_type": "stream",
          "name": "stdout",
          "text": [
            "Drive already mounted at /content/drive; to attempt to forcibly remount, call drive.mount(\"/content/drive\", force_remount=True).\n"
          ]
        }
      ],
      "source": [
        "from google.colab import drive\n",
        "drive.mount('/content/drive')"
      ]
    },
    {
      "cell_type": "code",
      "source": [
        "%cd /content/drive/MyDrive/elon_musk"
      ],
      "metadata": {
        "colab": {
          "base_uri": "https://localhost:8080/"
        },
        "id": "g-bwSsXhLaTh",
        "outputId": "192e92b6-8e89-4e88-8642-ee7d745836d2"
      },
      "execution_count": null,
      "outputs": [
        {
          "output_type": "stream",
          "name": "stdout",
          "text": [
            "/content/drive/MyDrive/elon_musk\n"
          ]
        }
      ]
    },
    {
      "cell_type": "code",
      "source": [
        "from PIL import Image\n",
        "import os\n",
        "\n",
        "image_folder = \"/content/drive/MyDrive/elon_musk\"\n",
        "images = []\n",
        "\n",
        "for filename in os.listdir(image_folder):\n",
        "    if filename.endswith(\".jpg\") or filename.endswith(\".png\"):\n",
        "        img = Image.open(os.path.join(image_folder, filename))\n",
        "        img = img.resize((28, 28))\n",
        "        images.append(img)"
      ],
      "metadata": {
        "id": "d106gjI5LaXS"
      },
      "execution_count": null,
      "outputs": []
    },
    {
      "cell_type": "code",
      "source": [
        "images"
      ],
      "metadata": {
        "colab": {
          "base_uri": "https://localhost:8080/"
        },
        "id": "ueCVFCxKLaaj",
        "outputId": "aa6ea62c-4b25-41e2-a237-14d944483eef"
      },
      "execution_count": null,
      "outputs": [
        {
          "output_type": "execute_result",
          "data": {
            "text/plain": [
              "[<PIL.Image.Image image mode=RGB size=28x28>,\n",
              " <PIL.Image.Image image mode=RGB size=28x28>,\n",
              " <PIL.Image.Image image mode=RGB size=28x28>,\n",
              " <PIL.Image.Image image mode=RGB size=28x28>,\n",
              " <PIL.Image.Image image mode=RGB size=28x28>,\n",
              " <PIL.Image.Image image mode=RGB size=28x28>,\n",
              " <PIL.Image.Image image mode=RGB size=28x28>,\n",
              " <PIL.Image.Image image mode=RGB size=28x28>,\n",
              " <PIL.Image.Image image mode=RGB size=28x28>,\n",
              " <PIL.Image.Image image mode=RGB size=28x28>,\n",
              " <PIL.Image.Image image mode=RGB size=28x28>,\n",
              " <PIL.Image.Image image mode=RGB size=28x28>,\n",
              " <PIL.Image.Image image mode=RGB size=28x28>,\n",
              " <PIL.Image.Image image mode=RGB size=28x28>,\n",
              " <PIL.Image.Image image mode=RGB size=28x28>,\n",
              " <PIL.Image.Image image mode=RGB size=28x28>,\n",
              " <PIL.Image.Image image mode=RGB size=28x28>,\n",
              " <PIL.Image.Image image mode=RGB size=28x28>,\n",
              " <PIL.Image.Image image mode=RGB size=28x28>,\n",
              " <PIL.Image.Image image mode=RGB size=28x28>,\n",
              " <PIL.Image.Image image mode=RGB size=28x28>,\n",
              " <PIL.Image.Image image mode=RGB size=28x28>,\n",
              " <PIL.Image.Image image mode=RGB size=28x28>,\n",
              " <PIL.Image.Image image mode=RGB size=28x28>,\n",
              " <PIL.Image.Image image mode=RGB size=28x28>,\n",
              " <PIL.Image.Image image mode=RGB size=28x28>,\n",
              " <PIL.Image.Image image mode=RGB size=28x28>,\n",
              " <PIL.Image.Image image mode=RGB size=28x28>,\n",
              " <PIL.Image.Image image mode=RGB size=28x28>,\n",
              " <PIL.Image.Image image mode=RGB size=28x28>,\n",
              " <PIL.Image.Image image mode=RGB size=28x28>,\n",
              " <PIL.Image.Image image mode=RGB size=28x28>,\n",
              " <PIL.Image.Image image mode=RGB size=28x28>,\n",
              " <PIL.Image.Image image mode=RGB size=28x28>,\n",
              " <PIL.Image.Image image mode=RGB size=28x28>,\n",
              " <PIL.Image.Image image mode=RGB size=28x28>,\n",
              " <PIL.Image.Image image mode=RGB size=28x28>,\n",
              " <PIL.Image.Image image mode=RGB size=28x28>,\n",
              " <PIL.Image.Image image mode=RGB size=28x28>,\n",
              " <PIL.Image.Image image mode=RGB size=28x28>,\n",
              " <PIL.Image.Image image mode=RGB size=28x28>,\n",
              " <PIL.Image.Image image mode=RGB size=28x28>,\n",
              " <PIL.Image.Image image mode=RGB size=28x28>,\n",
              " <PIL.Image.Image image mode=RGB size=28x28>,\n",
              " <PIL.Image.Image image mode=RGB size=28x28>,\n",
              " <PIL.Image.Image image mode=RGB size=28x28>,\n",
              " <PIL.Image.Image image mode=RGB size=28x28>,\n",
              " <PIL.Image.Image image mode=RGB size=28x28>,\n",
              " <PIL.Image.Image image mode=RGB size=28x28>,\n",
              " <PIL.Image.Image image mode=RGB size=28x28>,\n",
              " <PIL.Image.Image image mode=RGB size=28x28>,\n",
              " <PIL.Image.Image image mode=RGB size=28x28>,\n",
              " <PIL.Image.Image image mode=RGB size=28x28>,\n",
              " <PIL.Image.Image image mode=RGB size=28x28>,\n",
              " <PIL.Image.Image image mode=RGB size=28x28>,\n",
              " <PIL.Image.Image image mode=RGB size=28x28>,\n",
              " <PIL.Image.Image image mode=RGB size=28x28>,\n",
              " <PIL.Image.Image image mode=RGB size=28x28>,\n",
              " <PIL.Image.Image image mode=RGB size=28x28>,\n",
              " <PIL.Image.Image image mode=RGB size=28x28>,\n",
              " <PIL.Image.Image image mode=RGB size=28x28>,\n",
              " <PIL.Image.Image image mode=RGB size=28x28>,\n",
              " <PIL.Image.Image image mode=RGB size=28x28>,\n",
              " <PIL.Image.Image image mode=RGB size=28x28>,\n",
              " <PIL.Image.Image image mode=RGB size=28x28>,\n",
              " <PIL.Image.Image image mode=RGB size=28x28>,\n",
              " <PIL.Image.Image image mode=RGB size=28x28>,\n",
              " <PIL.Image.Image image mode=RGB size=28x28>,\n",
              " <PIL.Image.Image image mode=RGB size=28x28>,\n",
              " <PIL.Image.Image image mode=RGB size=28x28>,\n",
              " <PIL.Image.Image image mode=RGB size=28x28>,\n",
              " <PIL.Image.Image image mode=RGB size=28x28>,\n",
              " <PIL.Image.Image image mode=RGB size=28x28>,\n",
              " <PIL.Image.Image image mode=RGB size=28x28>,\n",
              " <PIL.Image.Image image mode=RGB size=28x28>,\n",
              " <PIL.Image.Image image mode=RGB size=28x28>,\n",
              " <PIL.Image.Image image mode=RGB size=28x28>,\n",
              " <PIL.Image.Image image mode=RGB size=28x28>,\n",
              " <PIL.Image.Image image mode=RGB size=28x28>,\n",
              " <PIL.Image.Image image mode=RGB size=28x28>,\n",
              " <PIL.Image.Image image mode=RGB size=28x28>,\n",
              " <PIL.Image.Image image mode=RGB size=28x28>,\n",
              " <PIL.Image.Image image mode=RGB size=28x28>,\n",
              " <PIL.Image.Image image mode=RGB size=28x28>,\n",
              " <PIL.Image.Image image mode=RGB size=28x28>,\n",
              " <PIL.Image.Image image mode=RGB size=28x28>,\n",
              " <PIL.Image.Image image mode=RGB size=28x28>,\n",
              " <PIL.Image.Image image mode=RGB size=28x28>,\n",
              " <PIL.Image.Image image mode=RGB size=28x28>,\n",
              " <PIL.Image.Image image mode=RGB size=28x28>,\n",
              " <PIL.Image.Image image mode=RGB size=28x28>,\n",
              " <PIL.Image.Image image mode=RGB size=28x28>,\n",
              " <PIL.Image.Image image mode=RGB size=28x28>,\n",
              " <PIL.Image.Image image mode=RGB size=28x28>,\n",
              " <PIL.Image.Image image mode=RGB size=28x28>,\n",
              " <PIL.Image.Image image mode=RGB size=28x28>,\n",
              " <PIL.Image.Image image mode=RGB size=28x28>,\n",
              " <PIL.Image.Image image mode=RGB size=28x28>,\n",
              " <PIL.Image.Image image mode=RGB size=28x28>,\n",
              " <PIL.Image.Image image mode=RGB size=28x28>,\n",
              " <PIL.Image.Image image mode=RGB size=28x28>,\n",
              " <PIL.Image.Image image mode=RGB size=28x28>,\n",
              " <PIL.Image.Image image mode=RGB size=28x28>,\n",
              " <PIL.Image.Image image mode=RGB size=28x28>,\n",
              " <PIL.Image.Image image mode=RGB size=28x28>,\n",
              " <PIL.Image.Image image mode=RGB size=28x28>,\n",
              " <PIL.Image.Image image mode=RGB size=28x28>,\n",
              " <PIL.Image.Image image mode=RGB size=28x28>,\n",
              " <PIL.Image.Image image mode=RGB size=28x28>,\n",
              " <PIL.Image.Image image mode=RGB size=28x28>,\n",
              " <PIL.Image.Image image mode=RGB size=28x28>,\n",
              " <PIL.Image.Image image mode=RGB size=28x28>,\n",
              " <PIL.Image.Image image mode=RGB size=28x28>,\n",
              " <PIL.Image.Image image mode=RGB size=28x28>,\n",
              " <PIL.Image.Image image mode=RGB size=28x28>,\n",
              " <PIL.Image.Image image mode=RGB size=28x28>,\n",
              " <PIL.Image.Image image mode=RGB size=28x28>,\n",
              " <PIL.Image.Image image mode=RGB size=28x28>,\n",
              " <PIL.Image.Image image mode=RGB size=28x28>,\n",
              " <PIL.Image.Image image mode=RGB size=28x28>,\n",
              " <PIL.Image.Image image mode=RGB size=28x28>,\n",
              " <PIL.Image.Image image mode=RGB size=28x28>,\n",
              " <PIL.Image.Image image mode=RGB size=28x28>,\n",
              " <PIL.Image.Image image mode=RGB size=28x28>,\n",
              " <PIL.Image.Image image mode=RGB size=28x28>,\n",
              " <PIL.Image.Image image mode=RGB size=28x28>,\n",
              " <PIL.Image.Image image mode=RGB size=28x28>,\n",
              " <PIL.Image.Image image mode=RGB size=28x28>,\n",
              " <PIL.Image.Image image mode=RGB size=28x28>,\n",
              " <PIL.Image.Image image mode=RGB size=28x28>,\n",
              " <PIL.Image.Image image mode=RGB size=28x28>,\n",
              " <PIL.Image.Image image mode=RGB size=28x28>,\n",
              " <PIL.Image.Image image mode=RGB size=28x28>,\n",
              " <PIL.Image.Image image mode=RGB size=28x28>,\n",
              " <PIL.Image.Image image mode=RGB size=28x28>,\n",
              " <PIL.Image.Image image mode=RGB size=28x28>,\n",
              " <PIL.Image.Image image mode=RGB size=28x28>,\n",
              " <PIL.Image.Image image mode=RGB size=28x28>,\n",
              " <PIL.Image.Image image mode=RGB size=28x28>,\n",
              " <PIL.Image.Image image mode=RGB size=28x28>,\n",
              " <PIL.Image.Image image mode=RGB size=28x28>,\n",
              " <PIL.Image.Image image mode=RGB size=28x28>,\n",
              " <PIL.Image.Image image mode=RGB size=28x28>,\n",
              " <PIL.Image.Image image mode=RGB size=28x28>,\n",
              " <PIL.Image.Image image mode=RGB size=28x28>,\n",
              " <PIL.Image.Image image mode=RGB size=28x28>,\n",
              " <PIL.Image.Image image mode=RGB size=28x28>,\n",
              " <PIL.Image.Image image mode=RGB size=28x28>,\n",
              " <PIL.Image.Image image mode=RGB size=28x28>,\n",
              " <PIL.Image.Image image mode=RGB size=28x28>,\n",
              " <PIL.Image.Image image mode=RGB size=28x28>,\n",
              " <PIL.Image.Image image mode=RGB size=28x28>,\n",
              " <PIL.Image.Image image mode=RGB size=28x28>,\n",
              " <PIL.Image.Image image mode=RGB size=28x28>,\n",
              " <PIL.Image.Image image mode=RGB size=28x28>,\n",
              " <PIL.Image.Image image mode=RGB size=28x28>,\n",
              " <PIL.Image.Image image mode=RGB size=28x28>,\n",
              " <PIL.Image.Image image mode=RGB size=28x28>,\n",
              " <PIL.Image.Image image mode=RGB size=28x28>,\n",
              " <PIL.Image.Image image mode=RGB size=28x28>,\n",
              " <PIL.Image.Image image mode=RGB size=28x28>,\n",
              " <PIL.Image.Image image mode=RGB size=28x28>,\n",
              " <PIL.Image.Image image mode=RGB size=28x28>,\n",
              " <PIL.Image.Image image mode=RGB size=28x28>,\n",
              " <PIL.Image.Image image mode=RGB size=28x28>,\n",
              " <PIL.Image.Image image mode=RGB size=28x28>,\n",
              " <PIL.Image.Image image mode=RGB size=28x28>,\n",
              " <PIL.Image.Image image mode=RGB size=28x28>,\n",
              " <PIL.Image.Image image mode=RGB size=28x28>,\n",
              " <PIL.Image.Image image mode=RGB size=28x28>,\n",
              " <PIL.Image.Image image mode=RGB size=28x28>,\n",
              " <PIL.Image.Image image mode=RGB size=28x28>,\n",
              " <PIL.Image.Image image mode=RGB size=28x28>,\n",
              " <PIL.Image.Image image mode=RGB size=28x28>,\n",
              " <PIL.Image.Image image mode=RGB size=28x28>,\n",
              " <PIL.Image.Image image mode=RGB size=28x28>,\n",
              " <PIL.Image.Image image mode=RGB size=28x28>,\n",
              " <PIL.Image.Image image mode=RGB size=28x28>,\n",
              " <PIL.Image.Image image mode=RGB size=28x28>,\n",
              " <PIL.Image.Image image mode=RGB size=28x28>,\n",
              " <PIL.Image.Image image mode=RGB size=28x28>,\n",
              " <PIL.Image.Image image mode=RGB size=28x28>,\n",
              " <PIL.Image.Image image mode=RGB size=28x28>,\n",
              " <PIL.Image.Image image mode=RGB size=28x28>,\n",
              " <PIL.Image.Image image mode=RGB size=28x28>,\n",
              " <PIL.Image.Image image mode=RGB size=28x28>,\n",
              " <PIL.Image.Image image mode=RGB size=28x28>,\n",
              " <PIL.Image.Image image mode=RGB size=28x28>,\n",
              " <PIL.Image.Image image mode=RGB size=28x28>,\n",
              " <PIL.Image.Image image mode=RGB size=28x28>,\n",
              " <PIL.Image.Image image mode=RGB size=28x28>,\n",
              " <PIL.Image.Image image mode=RGB size=28x28>,\n",
              " <PIL.Image.Image image mode=RGB size=28x28>,\n",
              " <PIL.Image.Image image mode=RGB size=28x28>,\n",
              " <PIL.Image.Image image mode=RGB size=28x28>,\n",
              " <PIL.Image.Image image mode=RGB size=28x28>,\n",
              " <PIL.Image.Image image mode=RGB size=28x28>,\n",
              " <PIL.Image.Image image mode=RGB size=28x28>,\n",
              " <PIL.Image.Image image mode=RGB size=28x28>,\n",
              " <PIL.Image.Image image mode=RGB size=28x28>,\n",
              " <PIL.Image.Image image mode=RGB size=28x28>,\n",
              " <PIL.Image.Image image mode=RGB size=28x28>,\n",
              " <PIL.Image.Image image mode=RGB size=28x28>,\n",
              " <PIL.Image.Image image mode=RGB size=28x28>,\n",
              " <PIL.Image.Image image mode=RGB size=28x28>,\n",
              " <PIL.Image.Image image mode=RGB size=28x28>,\n",
              " <PIL.Image.Image image mode=RGB size=28x28>,\n",
              " <PIL.Image.Image image mode=RGB size=28x28>,\n",
              " <PIL.Image.Image image mode=RGB size=28x28>,\n",
              " <PIL.Image.Image image mode=RGB size=28x28>,\n",
              " <PIL.Image.Image image mode=RGB size=28x28>,\n",
              " <PIL.Image.Image image mode=RGB size=28x28>,\n",
              " <PIL.Image.Image image mode=RGB size=28x28>,\n",
              " <PIL.Image.Image image mode=RGB size=28x28>,\n",
              " <PIL.Image.Image image mode=RGB size=28x28>,\n",
              " <PIL.Image.Image image mode=RGB size=28x28>,\n",
              " <PIL.Image.Image image mode=RGB size=28x28>,\n",
              " <PIL.Image.Image image mode=RGB size=28x28>,\n",
              " <PIL.Image.Image image mode=RGB size=28x28>,\n",
              " <PIL.Image.Image image mode=RGB size=28x28>,\n",
              " <PIL.Image.Image image mode=RGB size=28x28>,\n",
              " <PIL.Image.Image image mode=RGB size=28x28>,\n",
              " <PIL.Image.Image image mode=RGB size=28x28>,\n",
              " <PIL.Image.Image image mode=RGB size=28x28>,\n",
              " <PIL.Image.Image image mode=RGB size=28x28>,\n",
              " <PIL.Image.Image image mode=RGB size=28x28>,\n",
              " <PIL.Image.Image image mode=RGB size=28x28>,\n",
              " <PIL.Image.Image image mode=RGB size=28x28>,\n",
              " <PIL.Image.Image image mode=RGB size=28x28>,\n",
              " <PIL.Image.Image image mode=RGB size=28x28>,\n",
              " <PIL.Image.Image image mode=RGB size=28x28>,\n",
              " <PIL.Image.Image image mode=RGB size=28x28>,\n",
              " <PIL.Image.Image image mode=RGB size=28x28>,\n",
              " <PIL.Image.Image image mode=RGB size=28x28>,\n",
              " <PIL.Image.Image image mode=RGB size=28x28>,\n",
              " <PIL.Image.Image image mode=RGB size=28x28>,\n",
              " <PIL.Image.Image image mode=RGB size=28x28>,\n",
              " <PIL.Image.Image image mode=RGB size=28x28>,\n",
              " <PIL.Image.Image image mode=RGB size=28x28>,\n",
              " <PIL.Image.Image image mode=RGB size=28x28>,\n",
              " <PIL.Image.Image image mode=RGB size=28x28>,\n",
              " <PIL.Image.Image image mode=RGB size=28x28>,\n",
              " <PIL.Image.Image image mode=RGB size=28x28>,\n",
              " <PIL.Image.Image image mode=RGB size=28x28>,\n",
              " <PIL.Image.Image image mode=RGB size=28x28>,\n",
              " <PIL.Image.Image image mode=RGB size=28x28>,\n",
              " <PIL.Image.Image image mode=RGB size=28x28>,\n",
              " <PIL.Image.Image image mode=RGB size=28x28>,\n",
              " <PIL.Image.Image image mode=RGB size=28x28>,\n",
              " <PIL.Image.Image image mode=RGB size=28x28>,\n",
              " <PIL.Image.Image image mode=RGB size=28x28>,\n",
              " <PIL.Image.Image image mode=RGB size=28x28>,\n",
              " <PIL.Image.Image image mode=RGB size=28x28>,\n",
              " <PIL.Image.Image image mode=RGB size=28x28>,\n",
              " <PIL.Image.Image image mode=RGB size=28x28>,\n",
              " <PIL.Image.Image image mode=RGB size=28x28>,\n",
              " <PIL.Image.Image image mode=RGB size=28x28>,\n",
              " <PIL.Image.Image image mode=RGB size=28x28>,\n",
              " <PIL.Image.Image image mode=RGB size=28x28>,\n",
              " <PIL.Image.Image image mode=RGB size=28x28>,\n",
              " <PIL.Image.Image image mode=RGB size=28x28>,\n",
              " <PIL.Image.Image image mode=RGB size=28x28>,\n",
              " <PIL.Image.Image image mode=RGB size=28x28>,\n",
              " <PIL.Image.Image image mode=RGB size=28x28>,\n",
              " <PIL.Image.Image image mode=RGB size=28x28>,\n",
              " <PIL.Image.Image image mode=RGB size=28x28>,\n",
              " <PIL.Image.Image image mode=RGB size=28x28>,\n",
              " <PIL.Image.Image image mode=RGB size=28x28>,\n",
              " <PIL.Image.Image image mode=RGB size=28x28>,\n",
              " <PIL.Image.Image image mode=RGB size=28x28>,\n",
              " <PIL.Image.Image image mode=RGB size=28x28>,\n",
              " <PIL.Image.Image image mode=RGB size=28x28>,\n",
              " <PIL.Image.Image image mode=RGB size=28x28>,\n",
              " <PIL.Image.Image image mode=RGB size=28x28>,\n",
              " <PIL.Image.Image image mode=RGB size=28x28>,\n",
              " <PIL.Image.Image image mode=RGB size=28x28>,\n",
              " <PIL.Image.Image image mode=RGB size=28x28>,\n",
              " <PIL.Image.Image image mode=RGB size=28x28>,\n",
              " <PIL.Image.Image image mode=RGB size=28x28>,\n",
              " <PIL.Image.Image image mode=RGB size=28x28>,\n",
              " <PIL.Image.Image image mode=RGB size=28x28>,\n",
              " <PIL.Image.Image image mode=RGB size=28x28>,\n",
              " <PIL.Image.Image image mode=RGB size=28x28>,\n",
              " <PIL.Image.Image image mode=RGB size=28x28>,\n",
              " <PIL.Image.Image image mode=RGB size=28x28>,\n",
              " <PIL.Image.Image image mode=RGB size=28x28>,\n",
              " <PIL.Image.Image image mode=RGB size=28x28>,\n",
              " <PIL.Image.Image image mode=RGB size=28x28>,\n",
              " <PIL.Image.Image image mode=RGB size=28x28>,\n",
              " <PIL.Image.Image image mode=RGB size=28x28>,\n",
              " <PIL.Image.Image image mode=RGB size=28x28>,\n",
              " <PIL.Image.Image image mode=RGB size=28x28>,\n",
              " <PIL.Image.Image image mode=RGB size=28x28>,\n",
              " <PIL.Image.Image image mode=RGB size=28x28>,\n",
              " <PIL.Image.Image image mode=RGB size=28x28>,\n",
              " <PIL.Image.Image image mode=RGB size=28x28>,\n",
              " <PIL.Image.Image image mode=RGB size=28x28>,\n",
              " <PIL.Image.Image image mode=RGB size=28x28>,\n",
              " <PIL.Image.Image image mode=RGB size=28x28>,\n",
              " <PIL.Image.Image image mode=RGB size=28x28>,\n",
              " <PIL.Image.Image image mode=RGB size=28x28>,\n",
              " <PIL.Image.Image image mode=RGB size=28x28>,\n",
              " <PIL.Image.Image image mode=RGB size=28x28>,\n",
              " <PIL.Image.Image image mode=RGB size=28x28>,\n",
              " <PIL.Image.Image image mode=RGB size=28x28>,\n",
              " <PIL.Image.Image image mode=RGB size=28x28>,\n",
              " <PIL.Image.Image image mode=RGB size=28x28>,\n",
              " <PIL.Image.Image image mode=RGB size=28x28>,\n",
              " <PIL.Image.Image image mode=RGB size=28x28>,\n",
              " <PIL.Image.Image image mode=RGB size=28x28>,\n",
              " <PIL.Image.Image image mode=RGB size=28x28>,\n",
              " <PIL.Image.Image image mode=RGB size=28x28>,\n",
              " <PIL.Image.Image image mode=RGB size=28x28>,\n",
              " <PIL.Image.Image image mode=RGB size=28x28>,\n",
              " <PIL.Image.Image image mode=RGB size=28x28>,\n",
              " <PIL.Image.Image image mode=RGB size=28x28>,\n",
              " <PIL.Image.Image image mode=RGB size=28x28>,\n",
              " <PIL.Image.Image image mode=RGB size=28x28>,\n",
              " <PIL.Image.Image image mode=RGB size=28x28>,\n",
              " <PIL.Image.Image image mode=RGB size=28x28>,\n",
              " <PIL.Image.Image image mode=RGB size=28x28>,\n",
              " <PIL.Image.Image image mode=RGB size=28x28>,\n",
              " <PIL.Image.Image image mode=RGB size=28x28>,\n",
              " <PIL.Image.Image image mode=RGB size=28x28>,\n",
              " <PIL.Image.Image image mode=RGB size=28x28>,\n",
              " <PIL.Image.Image image mode=RGB size=28x28>,\n",
              " <PIL.Image.Image image mode=RGB size=28x28>,\n",
              " <PIL.Image.Image image mode=RGB size=28x28>,\n",
              " <PIL.Image.Image image mode=RGB size=28x28>,\n",
              " <PIL.Image.Image image mode=RGB size=28x28>,\n",
              " <PIL.Image.Image image mode=RGB size=28x28>,\n",
              " <PIL.Image.Image image mode=RGB size=28x28>,\n",
              " <PIL.Image.Image image mode=RGB size=28x28>,\n",
              " <PIL.Image.Image image mode=RGB size=28x28>,\n",
              " <PIL.Image.Image image mode=RGB size=28x28>,\n",
              " <PIL.Image.Image image mode=RGB size=28x28>,\n",
              " <PIL.Image.Image image mode=RGB size=28x28>,\n",
              " <PIL.Image.Image image mode=RGB size=28x28>,\n",
              " <PIL.Image.Image image mode=RGB size=28x28>,\n",
              " <PIL.Image.Image image mode=RGB size=28x28>,\n",
              " <PIL.Image.Image image mode=RGB size=28x28>,\n",
              " <PIL.Image.Image image mode=RGB size=28x28>,\n",
              " <PIL.Image.Image image mode=RGB size=28x28>,\n",
              " <PIL.Image.Image image mode=RGB size=28x28>,\n",
              " <PIL.Image.Image image mode=RGB size=28x28>,\n",
              " <PIL.Image.Image image mode=RGB size=28x28>,\n",
              " <PIL.Image.Image image mode=RGB size=28x28>,\n",
              " <PIL.Image.Image image mode=RGB size=28x28>,\n",
              " <PIL.Image.Image image mode=RGB size=28x28>,\n",
              " <PIL.Image.Image image mode=RGB size=28x28>,\n",
              " <PIL.Image.Image image mode=RGB size=28x28>,\n",
              " <PIL.Image.Image image mode=RGB size=28x28>,\n",
              " <PIL.Image.Image image mode=RGB size=28x28>,\n",
              " <PIL.Image.Image image mode=RGB size=28x28>,\n",
              " <PIL.Image.Image image mode=RGB size=28x28>,\n",
              " <PIL.Image.Image image mode=RGB size=28x28>,\n",
              " <PIL.Image.Image image mode=RGB size=28x28>,\n",
              " <PIL.Image.Image image mode=RGB size=28x28>,\n",
              " <PIL.Image.Image image mode=RGB size=28x28>,\n",
              " <PIL.Image.Image image mode=RGB size=28x28>,\n",
              " <PIL.Image.Image image mode=RGB size=28x28>,\n",
              " <PIL.Image.Image image mode=RGB size=28x28>,\n",
              " <PIL.Image.Image image mode=RGB size=28x28>,\n",
              " <PIL.Image.Image image mode=RGB size=28x28>,\n",
              " <PIL.Image.Image image mode=RGB size=28x28>,\n",
              " <PIL.Image.Image image mode=RGB size=28x28>,\n",
              " <PIL.Image.Image image mode=RGB size=28x28>,\n",
              " <PIL.Image.Image image mode=RGB size=28x28>,\n",
              " <PIL.Image.Image image mode=RGB size=28x28>,\n",
              " <PIL.Image.Image image mode=RGB size=28x28>,\n",
              " <PIL.Image.Image image mode=RGB size=28x28>,\n",
              " <PIL.Image.Image image mode=RGB size=28x28>,\n",
              " <PIL.Image.Image image mode=RGB size=28x28>,\n",
              " <PIL.Image.Image image mode=RGB size=28x28>,\n",
              " <PIL.Image.Image image mode=RGB size=28x28>,\n",
              " <PIL.Image.Image image mode=RGB size=28x28>,\n",
              " <PIL.Image.Image image mode=RGB size=28x28>,\n",
              " <PIL.Image.Image image mode=RGB size=28x28>,\n",
              " <PIL.Image.Image image mode=RGB size=28x28>,\n",
              " <PIL.Image.Image image mode=RGB size=28x28>,\n",
              " <PIL.Image.Image image mode=RGB size=28x28>,\n",
              " <PIL.Image.Image image mode=RGB size=28x28>,\n",
              " <PIL.Image.Image image mode=RGB size=28x28>,\n",
              " <PIL.Image.Image image mode=RGB size=28x28>,\n",
              " <PIL.Image.Image image mode=RGB size=28x28>,\n",
              " <PIL.Image.Image image mode=RGB size=28x28>,\n",
              " <PIL.Image.Image image mode=RGB size=28x28>,\n",
              " <PIL.Image.Image image mode=RGB size=28x28>,\n",
              " <PIL.Image.Image image mode=RGB size=28x28>,\n",
              " <PIL.Image.Image image mode=RGB size=28x28>,\n",
              " <PIL.Image.Image image mode=RGB size=28x28>,\n",
              " <PIL.Image.Image image mode=RGB size=28x28>,\n",
              " <PIL.Image.Image image mode=RGB size=28x28>,\n",
              " <PIL.Image.Image image mode=RGB size=28x28>,\n",
              " <PIL.Image.Image image mode=RGB size=28x28>,\n",
              " <PIL.Image.Image image mode=RGB size=28x28>,\n",
              " <PIL.Image.Image image mode=RGB size=28x28>,\n",
              " <PIL.Image.Image image mode=RGB size=28x28>,\n",
              " <PIL.Image.Image image mode=RGB size=28x28>,\n",
              " <PIL.Image.Image image mode=RGB size=28x28>,\n",
              " <PIL.Image.Image image mode=RGB size=28x28>,\n",
              " <PIL.Image.Image image mode=RGB size=28x28>,\n",
              " <PIL.Image.Image image mode=RGB size=28x28>,\n",
              " <PIL.Image.Image image mode=RGB size=28x28>,\n",
              " <PIL.Image.Image image mode=RGB size=28x28>,\n",
              " <PIL.Image.Image image mode=RGB size=28x28>,\n",
              " <PIL.Image.Image image mode=RGB size=28x28>,\n",
              " <PIL.Image.Image image mode=RGB size=28x28>,\n",
              " <PIL.Image.Image image mode=RGB size=28x28>,\n",
              " <PIL.Image.Image image mode=RGB size=28x28>,\n",
              " <PIL.Image.Image image mode=RGB size=28x28>,\n",
              " <PIL.Image.Image image mode=RGB size=28x28>,\n",
              " <PIL.Image.Image image mode=RGB size=28x28>,\n",
              " <PIL.Image.Image image mode=RGB size=28x28>,\n",
              " <PIL.Image.Image image mode=RGB size=28x28>,\n",
              " <PIL.Image.Image image mode=RGB size=28x28>,\n",
              " <PIL.Image.Image image mode=RGB size=28x28>,\n",
              " <PIL.Image.Image image mode=RGB size=28x28>,\n",
              " <PIL.Image.Image image mode=RGB size=28x28>,\n",
              " <PIL.Image.Image image mode=RGB size=28x28>,\n",
              " <PIL.Image.Image image mode=RGB size=28x28>,\n",
              " <PIL.Image.Image image mode=RGB size=28x28>,\n",
              " <PIL.Image.Image image mode=RGB size=28x28>,\n",
              " <PIL.Image.Image image mode=RGB size=28x28>,\n",
              " <PIL.Image.Image image mode=RGB size=28x28>,\n",
              " <PIL.Image.Image image mode=RGB size=28x28>,\n",
              " <PIL.Image.Image image mode=RGB size=28x28>,\n",
              " <PIL.Image.Image image mode=RGB size=28x28>,\n",
              " <PIL.Image.Image image mode=RGB size=28x28>,\n",
              " <PIL.Image.Image image mode=RGB size=28x28>,\n",
              " <PIL.Image.Image image mode=RGB size=28x28>,\n",
              " <PIL.Image.Image image mode=RGB size=28x28>,\n",
              " <PIL.Image.Image image mode=RGB size=28x28>,\n",
              " <PIL.Image.Image image mode=RGB size=28x28>,\n",
              " <PIL.Image.Image image mode=RGB size=28x28>,\n",
              " <PIL.Image.Image image mode=RGB size=28x28>,\n",
              " <PIL.Image.Image image mode=RGB size=28x28>,\n",
              " <PIL.Image.Image image mode=RGB size=28x28>,\n",
              " <PIL.Image.Image image mode=RGB size=28x28>,\n",
              " <PIL.Image.Image image mode=RGB size=28x28>,\n",
              " <PIL.Image.Image image mode=RGB size=28x28>,\n",
              " <PIL.Image.Image image mode=RGB size=28x28>,\n",
              " <PIL.Image.Image image mode=RGB size=28x28>,\n",
              " <PIL.Image.Image image mode=RGB size=28x28>,\n",
              " <PIL.Image.Image image mode=RGB size=28x28>,\n",
              " <PIL.Image.Image image mode=RGB size=28x28>,\n",
              " <PIL.Image.Image image mode=RGB size=28x28>,\n",
              " <PIL.Image.Image image mode=RGB size=28x28>,\n",
              " <PIL.Image.Image image mode=RGB size=28x28>,\n",
              " <PIL.Image.Image image mode=RGB size=28x28>,\n",
              " <PIL.Image.Image image mode=RGB size=28x28>,\n",
              " <PIL.Image.Image image mode=RGB size=28x28>,\n",
              " <PIL.Image.Image image mode=RGB size=28x28>,\n",
              " <PIL.Image.Image image mode=RGB size=28x28>,\n",
              " <PIL.Image.Image image mode=RGB size=28x28>,\n",
              " <PIL.Image.Image image mode=RGB size=28x28>,\n",
              " <PIL.Image.Image image mode=RGB size=28x28>,\n",
              " <PIL.Image.Image image mode=RGB size=28x28>,\n",
              " <PIL.Image.Image image mode=RGB size=28x28>,\n",
              " <PIL.Image.Image image mode=RGB size=28x28>,\n",
              " <PIL.Image.Image image mode=RGB size=28x28>,\n",
              " <PIL.Image.Image image mode=RGB size=28x28>,\n",
              " <PIL.Image.Image image mode=RGB size=28x28>,\n",
              " <PIL.Image.Image image mode=RGB size=28x28>,\n",
              " <PIL.Image.Image image mode=RGB size=28x28>,\n",
              " <PIL.Image.Image image mode=RGB size=28x28>,\n",
              " <PIL.Image.Image image mode=RGB size=28x28>,\n",
              " <PIL.Image.Image image mode=RGB size=28x28>,\n",
              " <PIL.Image.Image image mode=RGB size=28x28>,\n",
              " <PIL.Image.Image image mode=RGB size=28x28>,\n",
              " <PIL.Image.Image image mode=RGB size=28x28>,\n",
              " <PIL.Image.Image image mode=RGB size=28x28>,\n",
              " <PIL.Image.Image image mode=RGB size=28x28>,\n",
              " <PIL.Image.Image image mode=RGB size=28x28>,\n",
              " <PIL.Image.Image image mode=RGB size=28x28>,\n",
              " <PIL.Image.Image image mode=RGB size=28x28>,\n",
              " <PIL.Image.Image image mode=RGB size=28x28>,\n",
              " <PIL.Image.Image image mode=RGB size=28x28>,\n",
              " <PIL.Image.Image image mode=RGB size=28x28>,\n",
              " <PIL.Image.Image image mode=RGB size=28x28>,\n",
              " <PIL.Image.Image image mode=RGB size=28x28>,\n",
              " <PIL.Image.Image image mode=RGB size=28x28>,\n",
              " <PIL.Image.Image image mode=RGB size=28x28>,\n",
              " <PIL.Image.Image image mode=RGB size=28x28>,\n",
              " <PIL.Image.Image image mode=RGB size=28x28>,\n",
              " <PIL.Image.Image image mode=RGB size=28x28>,\n",
              " <PIL.Image.Image image mode=RGB size=28x28>,\n",
              " <PIL.Image.Image image mode=RGB size=28x28>,\n",
              " <PIL.Image.Image image mode=RGB size=28x28>,\n",
              " <PIL.Image.Image image mode=RGB size=28x28>,\n",
              " <PIL.Image.Image image mode=RGB size=28x28>,\n",
              " <PIL.Image.Image image mode=RGB size=28x28>,\n",
              " <PIL.Image.Image image mode=RGB size=28x28>,\n",
              " <PIL.Image.Image image mode=RGB size=28x28>,\n",
              " <PIL.Image.Image image mode=RGB size=28x28>,\n",
              " <PIL.Image.Image image mode=RGB size=28x28>,\n",
              " <PIL.Image.Image image mode=RGB size=28x28>,\n",
              " <PIL.Image.Image image mode=RGB size=28x28>,\n",
              " <PIL.Image.Image image mode=RGB size=28x28>,\n",
              " <PIL.Image.Image image mode=RGB size=28x28>,\n",
              " <PIL.Image.Image image mode=RGB size=28x28>,\n",
              " <PIL.Image.Image image mode=RGB size=28x28>,\n",
              " <PIL.Image.Image image mode=RGB size=28x28>,\n",
              " <PIL.Image.Image image mode=RGB size=28x28>,\n",
              " <PIL.Image.Image image mode=RGB size=28x28>,\n",
              " <PIL.Image.Image image mode=RGB size=28x28>,\n",
              " <PIL.Image.Image image mode=RGB size=28x28>,\n",
              " <PIL.Image.Image image mode=RGB size=28x28>,\n",
              " <PIL.Image.Image image mode=RGB size=28x28>,\n",
              " <PIL.Image.Image image mode=RGB size=28x28>,\n",
              " <PIL.Image.Image image mode=RGB size=28x28>,\n",
              " <PIL.Image.Image image mode=RGB size=28x28>,\n",
              " <PIL.Image.Image image mode=RGB size=28x28>,\n",
              " <PIL.Image.Image image mode=RGB size=28x28>,\n",
              " <PIL.Image.Image image mode=RGB size=28x28>,\n",
              " <PIL.Image.Image image mode=RGB size=28x28>,\n",
              " <PIL.Image.Image image mode=RGB size=28x28>,\n",
              " <PIL.Image.Image image mode=RGB size=28x28>,\n",
              " <PIL.Image.Image image mode=RGB size=28x28>,\n",
              " <PIL.Image.Image image mode=RGB size=28x28>,\n",
              " <PIL.Image.Image image mode=RGB size=28x28>,\n",
              " <PIL.Image.Image image mode=RGB size=28x28>,\n",
              " <PIL.Image.Image image mode=RGB size=28x28>,\n",
              " <PIL.Image.Image image mode=RGB size=28x28>,\n",
              " <PIL.Image.Image image mode=RGB size=28x28>,\n",
              " <PIL.Image.Image image mode=RGB size=28x28>,\n",
              " <PIL.Image.Image image mode=RGB size=28x28>,\n",
              " <PIL.Image.Image image mode=RGB size=28x28>,\n",
              " <PIL.Image.Image image mode=RGB size=28x28>,\n",
              " <PIL.Image.Image image mode=RGB size=28x28>,\n",
              " <PIL.Image.Image image mode=RGB size=28x28>,\n",
              " <PIL.Image.Image image mode=RGB size=28x28>,\n",
              " <PIL.Image.Image image mode=RGB size=28x28>,\n",
              " <PIL.Image.Image image mode=RGB size=28x28>,\n",
              " <PIL.Image.Image image mode=RGB size=28x28>,\n",
              " <PIL.Image.Image image mode=RGB size=28x28>,\n",
              " <PIL.Image.Image image mode=RGB size=28x28>,\n",
              " <PIL.Image.Image image mode=RGB size=28x28>,\n",
              " <PIL.Image.Image image mode=RGB size=28x28>,\n",
              " <PIL.Image.Image image mode=RGB size=28x28>,\n",
              " <PIL.Image.Image image mode=RGB size=28x28>,\n",
              " <PIL.Image.Image image mode=RGB size=28x28>,\n",
              " <PIL.Image.Image image mode=RGB size=28x28>,\n",
              " <PIL.Image.Image image mode=RGB size=28x28>,\n",
              " <PIL.Image.Image image mode=RGB size=28x28>,\n",
              " <PIL.Image.Image image mode=RGB size=28x28>,\n",
              " <PIL.Image.Image image mode=RGB size=28x28>,\n",
              " <PIL.Image.Image image mode=RGB size=28x28>,\n",
              " <PIL.Image.Image image mode=RGB size=28x28>,\n",
              " <PIL.Image.Image image mode=RGB size=28x28>,\n",
              " <PIL.Image.Image image mode=RGB size=28x28>,\n",
              " <PIL.Image.Image image mode=RGB size=28x28>,\n",
              " <PIL.Image.Image image mode=RGB size=28x28>,\n",
              " <PIL.Image.Image image mode=RGB size=28x28>,\n",
              " <PIL.Image.Image image mode=RGB size=28x28>,\n",
              " <PIL.Image.Image image mode=RGB size=28x28>,\n",
              " <PIL.Image.Image image mode=RGB size=28x28>,\n",
              " <PIL.Image.Image image mode=RGB size=28x28>,\n",
              " <PIL.Image.Image image mode=RGB size=28x28>,\n",
              " <PIL.Image.Image image mode=RGB size=28x28>,\n",
              " <PIL.Image.Image image mode=RGB size=28x28>,\n",
              " <PIL.Image.Image image mode=RGB size=28x28>,\n",
              " <PIL.Image.Image image mode=RGB size=28x28>,\n",
              " <PIL.Image.Image image mode=RGB size=28x28>,\n",
              " <PIL.Image.Image image mode=RGB size=28x28>,\n",
              " <PIL.Image.Image image mode=RGB size=28x28>,\n",
              " <PIL.Image.Image image mode=RGB size=28x28>,\n",
              " <PIL.Image.Image image mode=RGB size=28x28>,\n",
              " <PIL.Image.Image image mode=RGB size=28x28>,\n",
              " <PIL.Image.Image image mode=RGB size=28x28>,\n",
              " <PIL.Image.Image image mode=RGB size=28x28>,\n",
              " <PIL.Image.Image image mode=RGB size=28x28>,\n",
              " <PIL.Image.Image image mode=RGB size=28x28>,\n",
              " <PIL.Image.Image image mode=RGB size=28x28>,\n",
              " <PIL.Image.Image image mode=RGB size=28x28>,\n",
              " <PIL.Image.Image image mode=RGB size=28x28>,\n",
              " <PIL.Image.Image image mode=RGB size=28x28>,\n",
              " <PIL.Image.Image image mode=RGB size=28x28>,\n",
              " <PIL.Image.Image image mode=RGB size=28x28>,\n",
              " <PIL.Image.Image image mode=RGB size=28x28>,\n",
              " <PIL.Image.Image image mode=RGB size=28x28>,\n",
              " <PIL.Image.Image image mode=RGB size=28x28>,\n",
              " <PIL.Image.Image image mode=RGB size=28x28>,\n",
              " <PIL.Image.Image image mode=RGB size=28x28>,\n",
              " <PIL.Image.Image image mode=RGB size=28x28>,\n",
              " <PIL.Image.Image image mode=RGB size=28x28>,\n",
              " <PIL.Image.Image image mode=RGB size=28x28>,\n",
              " <PIL.Image.Image image mode=RGB size=28x28>,\n",
              " <PIL.Image.Image image mode=RGB size=28x28>,\n",
              " <PIL.Image.Image image mode=RGB size=28x28>,\n",
              " <PIL.Image.Image image mode=RGB size=28x28>,\n",
              " <PIL.Image.Image image mode=RGB size=28x28>,\n",
              " <PIL.Image.Image image mode=RGB size=28x28>,\n",
              " <PIL.Image.Image image mode=RGB size=28x28>,\n",
              " <PIL.Image.Image image mode=RGB size=28x28>,\n",
              " <PIL.Image.Image image mode=RGB size=28x28>,\n",
              " <PIL.Image.Image image mode=RGB size=28x28>,\n",
              " <PIL.Image.Image image mode=RGB size=28x28>]"
            ]
          },
          "metadata": {},
          "execution_count": 113
        }
      ]
    },
    {
      "cell_type": "code",
      "source": [
        "num_images_to_display = 10\n",
        "\n",
        "plt.figure(figsize=(10, 10))\n",
        "for i in range(num_images_to_display):\n",
        "    plt.subplot(1, num_images_to_display, i + 1)\n",
        "    plt.imshow(images[i])\n",
        "    plt.axis('off')\n",
        "\n",
        "plt.show()"
      ],
      "metadata": {
        "colab": {
          "base_uri": "https://localhost:8080/",
          "height": 102
        },
        "id": "xz7oq0apLac7",
        "outputId": "2f37f4c4-817a-4480-e81b-99582b2f6189"
      },
      "execution_count": null,
      "outputs": [
        {
          "output_type": "display_data",
          "data": {
            "text/plain": [
              "<Figure size 1000x1000 with 10 Axes>"
            ],
            "image/png": "[encoded data removed]"
          },
          "metadata": {}
        }
      ]
    },
    {
      "cell_type": "code",
      "source": [
        "image_arrays = [np.array(img) for img in images]\n",
        "X_train = np.stack(image_arrays)"
      ],
      "metadata": {
        "id": "3N5lEH9ULafa"
      },
      "execution_count": null,
      "outputs": []
    },
    {
      "cell_type": "code",
      "source": [
        "print(\"Shape of X_train:\", X_train.shape)\n",
        "print(\"Pixel values of the first image:\")\n",
        "print(X_train[0])"
      ],
      "metadata": {
        "colab": {
          "base_uri": "https://localhost:8080/"
        },
        "id": "EGH4H2DuT0bQ",
        "outputId": "2faab45f-2656-4933-c8fb-562720ec61f5"
      },
      "execution_count": null,
      "outputs": [
        {
          "output_type": "stream",
          "name": "stdout",
          "text": [
            "Shape of X_train: (598, 28, 28, 3)\n",
            "Pixel values of the first image:\n",
            "[[[ 41  29  54]\n",
            "  [ 44  31  50]\n",
            "  [ 66  49  63]\n",
            "  ...\n",
            "  [127  98 117]\n",
            "  [ 50  32  58]\n",
            "  [ 35  22  55]]\n",
            "\n",
            " [[ 42  24  47]\n",
            "  [ 70  51  68]\n",
            "  [ 96  75  89]\n",
            "  ...\n",
            "  [171 141 154]\n",
            "  [125 100 121]\n",
            "  [ 37  18  47]]\n",
            "\n",
            " [[ 88  67  85]\n",
            "  [115  92 108]\n",
            "  [126 101 116]\n",
            "  ...\n",
            "  [171 139 149]\n",
            "  [171 139 159]\n",
            "  [127 100 126]]\n",
            "\n",
            " ...\n",
            "\n",
            " [[196 155 150]\n",
            "  [185 143 143]\n",
            "  [160 120 125]\n",
            "  ...\n",
            "  [173 147 144]\n",
            "  [177 149 146]\n",
            "  [180 151 148]]\n",
            "\n",
            " [[207 165 165]\n",
            "  [198 156 156]\n",
            "  [180 139 139]\n",
            "  ...\n",
            "  [172 142 137]\n",
            "  [169 140 136]\n",
            "  [172 143 140]]\n",
            "\n",
            " [[212 173 168]\n",
            "  [212 173 169]\n",
            "  [199 159 156]\n",
            "  ...\n",
            "  [163 134 133]\n",
            "  [164 131 128]\n",
            "  [164 132 129]]]\n"
          ]
        }
      ]
    },
    {
      "cell_type": "code",
      "source": [
        "X_train_df = pd.DataFrame(X_train.reshape(X_train.shape[0], -1))\n",
        "print(\"Shape of X_train_df:\", X_train_df.shape)"
      ],
      "metadata": {
        "colab": {
          "base_uri": "https://localhost:8080/"
        },
        "id": "6DA3cWGRT0YW",
        "outputId": "6460ef70-f8c6-42e1-d7eb-63cdc15bc7c6"
      },
      "execution_count": null,
      "outputs": [
        {
          "output_type": "stream",
          "name": "stdout",
          "text": [
            "Shape of X_train_df: (598, 2352)\n"
          ]
        }
      ]
    },
    {
      "cell_type": "code",
      "source": [
        "X_train = X_train_df.values\n",
        "print(\"Shape of X_train:\", X_train.shape)"
      ],
      "metadata": {
        "colab": {
          "base_uri": "https://localhost:8080/"
        },
        "id": "69QppKCWT0Vp",
        "outputId": "88f38f04-5113-4810-d417-d188719e252e"
      },
      "execution_count": null,
      "outputs": [
        {
          "output_type": "stream",
          "name": "stdout",
          "text": [
            "Shape of X_train: (598, 2352)\n"
          ]
        }
      ]
    },
    {
      "cell_type": "code",
      "source": [
        "X_train = X_train.reshape(-1, 28, 28, 1)\n",
        "print(\"New shape of X_train:\", X_train.shape)"
      ],
      "metadata": {
        "colab": {
          "base_uri": "https://localhost:8080/"
        },
        "id": "5Tb3-WTjUeyo",
        "outputId": "c456dba7-4700-4ee9-f144-a6b4e38ce14b"
      },
      "execution_count": null,
      "outputs": [
        {
          "output_type": "stream",
          "name": "stdout",
          "text": [
            "New shape of X_train: (1794, 28, 28, 1)\n"
          ]
        }
      ]
    },
    {
      "cell_type": "markdown",
      "source": [
        "**Data Visualization**"
      ],
      "metadata": {
        "id": "8Xd56vqVVECt"
      }
    },
    {
      "cell_type": "code",
      "source": [
        "fig, axes = plt.subplots(2, 2, figsize=(8, 8))\n",
        "idx = 0\n",
        "\n",
        "for i in range(2):\n",
        "    for j in range(2):\n",
        "        random_color = np.random.rand(28, 28, 3)\n",
        "        axes[i, j].imshow(X_train[idx].reshape(28, 28, 1) * random_color)\n",
        "        idx += 1\n",
        "        axes[i, j].axis('off')\n",
        "\n",
        "plt.tight_layout()\n",
        "plt.show()"
      ],
      "metadata": {
        "id": "mBd3Q8fKUgB1"
      },
      "execution_count": null,
      "outputs": []
    },
    {
      "cell_type": "code",
      "source": [
        "X_train =  X_train.astype('float32')"
      ],
      "metadata": {
        "id": "WiB_EvfcfL94"
      },
      "execution_count": null,
      "outputs": []
    },
    {
      "cell_type": "code",
      "source": [
        "X_train = X_train/255\n",
        "X_train = X_train*2 - 1."
      ],
      "metadata": {
        "id": "9nyOUxBImhBP"
      },
      "execution_count": null,
      "outputs": []
    },
    {
      "cell_type": "code",
      "source": [
        "print(X_train.max(),X_train.min())"
      ],
      "metadata": {
        "colab": {
          "base_uri": "https://localhost:8080/"
        },
        "id": "DrNPpoOumkLy",
        "outputId": "e2ab8bb0-35ed-451e-b22c-8f6e4cffc1b2"
      },
      "execution_count": null,
      "outputs": [
        {
          "output_type": "stream",
          "name": "stdout",
          "text": [
            "1.0 -1.0\n"
          ]
        }
      ]
    },
    {
      "cell_type": "markdown",
      "source": [
        "**Simple GAN Model**"
      ],
      "metadata": {
        "id": "zJX_xIkHYK4A"
      }
    },
    {
      "cell_type": "code",
      "source": [
        "generator = Sequential()\n",
        "generator.add(Dense(256,input_shape=[100]))\n",
        "generator.add(LeakyReLU(alpha=0.2))\n",
        "generator.add(BatchNormalization(momentum=0.8))\n",
        "generator.add(Dense(512))\n",
        "generator.add(LeakyReLU(alpha=0.2))\n",
        "generator.add(BatchNormalization(momentum=0.8))\n",
        "generator.add(Dense(1024))\n",
        "generator.add(LeakyReLU(alpha=0.2))\n",
        "generator.add(BatchNormalization(momentum=0.8))\n",
        "generator.add(Dense(2352))\n",
        "generator.add(Reshape([28,28,3]))"
      ],
      "metadata": {
        "id": "ZrbiTEhKmqdB"
      },
      "execution_count": null,
      "outputs": []
    },
    {
      "cell_type": "code",
      "source": [
        "generator.summary()"
      ],
      "metadata": {
        "colab": {
          "base_uri": "https://localhost:8080/"
        },
        "id": "m6NLSboPggqF",
        "outputId": "ec2098df-7bbe-42ec-b388-0e76476b3f8c"
      },
      "execution_count": null,
      "outputs": [
        {
          "output_type": "stream",
          "name": "stdout",
          "text": [
            "Model: \"sequential_26\"\n",
            "_________________________________________________________________\n",
            " Layer (type)                Output Shape              Param #   \n",
            "=================================================================\n",
            " dense_78 (Dense)            (None, 256)               25856     \n",
            "                                                                 \n",
            " leaky_re_lu_53 (LeakyReLU)  (None, 256)               0         \n",
            "                                                                 \n",
            " batch_normalization_29 (Bat  (None, 256)              1024      \n",
            " chNormalization)                                                \n",
            "                                                                 \n",
            " dense_79 (Dense)            (None, 512)               131584    \n",
            "                                                                 \n",
            " leaky_re_lu_54 (LeakyReLU)  (None, 512)               0         \n",
            "                                                                 \n",
            " batch_normalization_30 (Bat  (None, 512)              2048      \n",
            " chNormalization)                                                \n",
            "                                                                 \n",
            " dense_80 (Dense)            (None, 1024)              525312    \n",
            "                                                                 \n",
            " leaky_re_lu_55 (LeakyReLU)  (None, 1024)              0         \n",
            "                                                                 \n",
            " batch_normalization_31 (Bat  (None, 1024)             4096      \n",
            " chNormalization)                                                \n",
            "                                                                 \n",
            " dense_81 (Dense)            (None, 2352)              2410800   \n",
            "                                                                 \n",
            " reshape_10 (Reshape)        (None, 28, 28, 3)         0         \n",
            "                                                                 \n",
            "=================================================================\n",
            "Total params: 3,100,720\n",
            "Trainable params: 3,097,136\n",
            "Non-trainable params: 3,584\n",
            "_________________________________________________________________\n"
          ]
        }
      ]
    },
    {
      "cell_type": "code",
      "source": [
        "discriminator = Sequential()\n",
        "discriminator.add(Dense(1,input_shape=[28,28,3]))\n",
        "discriminator.add(Flatten())\n",
        "discriminator.add(Dense(512))\n",
        "discriminator.add(LeakyReLU(alpha=0.2))\n",
        "discriminator.add(Dropout(0.5))\n",
        "discriminator.add(Dense(256))\n",
        "discriminator.add(LeakyReLU(alpha=0.2))\n",
        "discriminator.add(Dropout(0.5))\n",
        "discriminator.add(Dense(128))\n",
        "discriminator.add(LeakyReLU(alpha=0.2))\n",
        "discriminator.add(Dropout(0.5))\n",
        "discriminator.add(Dense(3,activation='sigmoid'))"
      ],
      "metadata": {
        "id": "Gdojtms8Uf3_"
      },
      "execution_count": null,
      "outputs": []
    },
    {
      "cell_type": "code",
      "source": [
        "discriminator.summary()"
      ],
      "metadata": {
        "colab": {
          "base_uri": "https://localhost:8080/"
        },
        "id": "4Ed1nNvuefsu",
        "outputId": "da467f37-3683-4758-dfc2-58f5304c92c0"
      },
      "execution_count": null,
      "outputs": [
        {
          "output_type": "stream",
          "name": "stdout",
          "text": [
            "Model: \"sequential_34\"\n",
            "_________________________________________________________________\n",
            " Layer (type)                Output Shape              Param #   \n",
            "=================================================================\n",
            " dense_102 (Dense)           (None, 28, 28, 1)         4         \n",
            "                                                                 \n",
            " flatten_13 (Flatten)        (None, 784)               0         \n",
            "                                                                 \n",
            " dense_103 (Dense)           (None, 512)               401920    \n",
            "                                                                 \n",
            " leaky_re_lu_68 (LeakyReLU)  (None, 512)               0         \n",
            "                                                                 \n",
            " dropout_38 (Dropout)        (None, 512)               0         \n",
            "                                                                 \n",
            " dense_104 (Dense)           (None, 256)               131328    \n",
            "                                                                 \n",
            " leaky_re_lu_69 (LeakyReLU)  (None, 256)               0         \n",
            "                                                                 \n",
            " dropout_39 (Dropout)        (None, 256)               0         \n",
            "                                                                 \n",
            " dense_105 (Dense)           (None, 128)               32896     \n",
            "                                                                 \n",
            " leaky_re_lu_70 (LeakyReLU)  (None, 128)               0         \n",
            "                                                                 \n",
            " dropout_40 (Dropout)        (None, 128)               0         \n",
            "                                                                 \n",
            " dense_106 (Dense)           (None, 3)                 387       \n",
            "                                                                 \n",
            "=================================================================\n",
            "Total params: 566,535\n",
            "Trainable params: 566,535\n",
            "Non-trainable params: 0\n",
            "_________________________________________________________________\n"
          ]
        }
      ]
    },
    {
      "cell_type": "code",
      "source": [
        "GAN =Sequential([generator,discriminator])\n",
        "discriminator.compile(optimizer='adam',loss='binary_crossentropy')\n",
        "discriminator.trainable = False"
      ],
      "metadata": {
        "id": "3MJDW5ceYZnK"
      },
      "execution_count": null,
      "outputs": []
    },
    {
      "cell_type": "code",
      "source": [
        "GAN.compile(optimizer='adam',loss='binary_crossentropy')"
      ],
      "metadata": {
        "id": "kdguDcilYZks"
      },
      "execution_count": null,
      "outputs": []
    },
    {
      "cell_type": "code",
      "source": [
        "GAN.layers"
      ],
      "metadata": {
        "colab": {
          "base_uri": "https://localhost:8080/"
        },
        "id": "WJb_LePCYZhw",
        "outputId": "9cf10be9-df45-475f-f396-2be678cbcd75"
      },
      "execution_count": null,
      "outputs": [
        {
          "output_type": "execute_result",
          "data": {
            "text/plain": [
              "[<keras.engine.sequential.Sequential at 0x7b7266fe0520>,\n",
              " <keras.engine.sequential.Sequential at 0x7b72506feb90>]"
            ]
          },
          "metadata": {},
          "execution_count": 173
        }
      ]
    },
    {
      "cell_type": "code",
      "source": [
        "GAN.summary()"
      ],
      "metadata": {
        "colab": {
          "base_uri": "https://localhost:8080/"
        },
        "id": "VYF57krgYZfS",
        "outputId": "8691f2e2-ffc3-45d6-ae25-3c93275331a4"
      },
      "execution_count": null,
      "outputs": [
        {
          "output_type": "stream",
          "name": "stdout",
          "text": [
            "Model: \"sequential_35\"\n",
            "_________________________________________________________________\n",
            " Layer (type)                Output Shape              Param #   \n",
            "=================================================================\n",
            " sequential_26 (Sequential)  (None, 28, 28, 3)         3100720   \n",
            "                                                                 \n",
            " sequential_34 (Sequential)  (None, 3)                 566535    \n",
            "                                                                 \n",
            "=================================================================\n",
            "Total params: 3,667,255\n",
            "Trainable params: 3,097,136\n",
            "Non-trainable params: 570,119\n",
            "_________________________________________________________________\n"
          ]
        }
      ]
    },
    {
      "cell_type": "code",
      "source": [
        "epochs = 30\n",
        "batch_size = 100\n",
        "noise_shape=100"
      ],
      "metadata": {
        "id": "h7a_gvQEYZc3"
      },
      "execution_count": null,
      "outputs": []
    },
    {
      "cell_type": "code",
      "source": [
        "with tf.device('/gpu:0'):\n",
        " for epoch in range(epochs):\n",
        "    print(f\"Currently on Epoch {epoch+1}\")\n",
        "\n",
        "\n",
        "    for i in range(X_train.shape[0]//batch_size):\n",
        "\n",
        "        if (i+1)%50 == 0:\n",
        "            print(f\"\\tCurrently on batch number {i+1} of {X_train.shape[0]//batch_size}\")\n",
        "\n",
        "        noise=np.random.normal(size=[batch_size,noise_shape])\n",
        "\n",
        "        gen_image = generator.predict_on_batch(noise)\n",
        "\n",
        "        train_dataset = X_train[i*batch_size:(i+1)*batch_size]\n",
        "\n",
        "         #training discriminator on real images\n",
        "        train_label=np.ones(shape=(batch_size,1))\n",
        "        discriminator.trainable = True\n",
        "        d_loss_real=discriminator.train_on_batch(train_dataset,train_label)\n",
        "\n",
        "        #training discriminator on fake images\n",
        "        train_label=np.zeros(shape=(batch_size,1))\n",
        "        d_loss_fake=discriminator.train_on_batch(gen_image,train_label)\n",
        "\n",
        "\n",
        "        #training generator\n",
        "        noise=np.random.normal(size=[batch_size,noise_shape])\n",
        "        train_label=np.ones(shape=(batch_size,1))\n",
        "        discriminator.trainable = False\n",
        "\n",
        "        d_g_loss_batch =GAN.train_on_batch(noise, train_label)\n",
        "\n",
        "        #plotting generated images at the start and then after every 10 epoch\n",
        "    if epoch % 10 == 0:\n",
        "        samples = 10\n",
        "        x_fake = generator.predict(np.random.normal(loc=0, scale=1, size=(samples, 100)))\n",
        "\n",
        "        for k in range(samples):\n",
        "            plt.subplot(2, 5, k+1)\n",
        "            plt.imshow(x_fake[k].reshape(28, 28, 3), cmap='gray')\n",
        "            plt.xticks([])\n",
        "            plt.yticks([])\n",
        "\n",
        "        plt.tight_layout()\n",
        "        plt.show()\n",
        "\n",
        "\n",
        "print('Training is complete')"
      ],
      "metadata": {
        "colab": {
          "base_uri": "https://localhost:8080/",
          "height": 833
        },
        "id": "MRNWsPSvYZaY",
        "outputId": "35353396-5e66-4b9b-c17f-9389ab0b3820"
      },
      "execution_count": null,
      "outputs": [
        {
          "output_type": "stream",
          "name": "stdout",
          "text": [
            "Currently on Epoch 1\n"
          ]
        },
        {
          "output_type": "error",
          "ename": "ValueError",
          "evalue": "ignored",
          "traceback": [
            "\u001b[0;31m---------------------------------------------------------------------------\u001b[0m",
            "\u001b[0;31mValueError\u001b[0m                                Traceback (most recent call last)",
            "\u001b[0;32m<ipython-input-177-8053af05b384>\u001b[0m in \u001b[0;36m<cell line: 1>\u001b[0;34m()\u001b[0m\n\u001b[1;32m     18\u001b[0m         \u001b[0mtrain_label\u001b[0m\u001b[0;34m=\u001b[0m\u001b[0mnp\u001b[0m\u001b[0;34m.\u001b[0m\u001b[0mones\u001b[0m\u001b[0;34m(\u001b[0m\u001b[0mshape\u001b[0m\u001b[0;34m=\u001b[0m\u001b[0;34m(\u001b[0m\u001b[0mbatch_size\u001b[0m\u001b[0;34m,\u001b[0m\u001b[0;36m1\u001b[0m\u001b[0;34m)\u001b[0m\u001b[0;34m)\u001b[0m\u001b[0;34m\u001b[0m\u001b[0;34m\u001b[0m\u001b[0m\n\u001b[1;32m     19\u001b[0m         \u001b[0mdiscriminator\u001b[0m\u001b[0;34m.\u001b[0m\u001b[0mtrainable\u001b[0m \u001b[0;34m=\u001b[0m \u001b[0;32mTrue\u001b[0m\u001b[0;34m\u001b[0m\u001b[0;34m\u001b[0m\u001b[0m\n\u001b[0;32m---> 20\u001b[0;31m         \u001b[0md_loss_real\u001b[0m\u001b[0;34m=\u001b[0m\u001b[0mdiscriminator\u001b[0m\u001b[0;34m.\u001b[0m\u001b[0mtrain_on_batch\u001b[0m\u001b[0;34m(\u001b[0m\u001b[0mtrain_dataset\u001b[0m\u001b[0;34m,\u001b[0m\u001b[0mtrain_label\u001b[0m\u001b[0;34m)\u001b[0m\u001b[0;34m\u001b[0m\u001b[0;34m\u001b[0m\u001b[0m\n\u001b[0m\u001b[1;32m     21\u001b[0m \u001b[0;34m\u001b[0m\u001b[0m\n\u001b[1;32m     22\u001b[0m         \u001b[0;31m#training discriminator on fake images\u001b[0m\u001b[0;34m\u001b[0m\u001b[0;34m\u001b[0m\u001b[0m\n",
            "\u001b[0;32m/usr/local/lib/python3.10/dist-packages/keras/engine/training.py\u001b[0m in \u001b[0;36mtrain_on_batch\u001b[0;34m(self, x, y, sample_weight, class_weight, reset_metrics, return_dict)\u001b[0m\n\u001b[1;32m   2508\u001b[0m             )\n\u001b[1;32m   2509\u001b[0m             \u001b[0mself\u001b[0m\u001b[0;34m.\u001b[0m\u001b[0mtrain_function\u001b[0m \u001b[0;34m=\u001b[0m \u001b[0mself\u001b[0m\u001b[0;34m.\u001b[0m\u001b[0mmake_train_function\u001b[0m\u001b[0;34m(\u001b[0m\u001b[0;34m)\u001b[0m\u001b[0;34m\u001b[0m\u001b[0;34m\u001b[0m\u001b[0m\n\u001b[0;32m-> 2510\u001b[0;31m             \u001b[0mlogs\u001b[0m \u001b[0;34m=\u001b[0m \u001b[0mself\u001b[0m\u001b[0;34m.\u001b[0m\u001b[0mtrain_function\u001b[0m\u001b[0;34m(\u001b[0m\u001b[0miterator\u001b[0m\u001b[0;34m)\u001b[0m\u001b[0;34m\u001b[0m\u001b[0;34m\u001b[0m\u001b[0m\n\u001b[0m\u001b[1;32m   2511\u001b[0m \u001b[0;34m\u001b[0m\u001b[0m\n\u001b[1;32m   2512\u001b[0m         \u001b[0mlogs\u001b[0m \u001b[0;34m=\u001b[0m \u001b[0mtf_utils\u001b[0m\u001b[0;34m.\u001b[0m\u001b[0msync_to_numpy_or_python_type\u001b[0m\u001b[0;34m(\u001b[0m\u001b[0mlogs\u001b[0m\u001b[0;34m)\u001b[0m\u001b[0;34m\u001b[0m\u001b[0;34m\u001b[0m\u001b[0m\n",
            "\u001b[0;32m/usr/local/lib/python3.10/dist-packages/tensorflow/python/util/traceback_utils.py\u001b[0m in \u001b[0;36merror_handler\u001b[0;34m(*args, **kwargs)\u001b[0m\n\u001b[1;32m    151\u001b[0m     \u001b[0;32mexcept\u001b[0m \u001b[0mException\u001b[0m \u001b[0;32mas\u001b[0m \u001b[0me\u001b[0m\u001b[0;34m:\u001b[0m\u001b[0;34m\u001b[0m\u001b[0;34m\u001b[0m\u001b[0m\n\u001b[1;32m    152\u001b[0m       \u001b[0mfiltered_tb\u001b[0m \u001b[0;34m=\u001b[0m \u001b[0m_process_traceback_frames\u001b[0m\u001b[0;34m(\u001b[0m\u001b[0me\u001b[0m\u001b[0;34m.\u001b[0m\u001b[0m__traceback__\u001b[0m\u001b[0;34m)\u001b[0m\u001b[0;34m\u001b[0m\u001b[0;34m\u001b[0m\u001b[0m\n\u001b[0;32m--> 153\u001b[0;31m       \u001b[0;32mraise\u001b[0m \u001b[0me\u001b[0m\u001b[0;34m.\u001b[0m\u001b[0mwith_traceback\u001b[0m\u001b[0;34m(\u001b[0m\u001b[0mfiltered_tb\u001b[0m\u001b[0;34m)\u001b[0m \u001b[0;32mfrom\u001b[0m \u001b[0;32mNone\u001b[0m\u001b[0;34m\u001b[0m\u001b[0;34m\u001b[0m\u001b[0m\n\u001b[0m\u001b[1;32m    154\u001b[0m     \u001b[0;32mfinally\u001b[0m\u001b[0;34m:\u001b[0m\u001b[0;34m\u001b[0m\u001b[0;34m\u001b[0m\u001b[0m\n\u001b[1;32m    155\u001b[0m       \u001b[0;32mdel\u001b[0m \u001b[0mfiltered_tb\u001b[0m\u001b[0;34m\u001b[0m\u001b[0;34m\u001b[0m\u001b[0m\n",
            "\u001b[0;32m/usr/local/lib/python3.10/dist-packages/keras/engine/training.py\u001b[0m in \u001b[0;36mtf__train_function\u001b[0;34m(iterator)\u001b[0m\n\u001b[1;32m     13\u001b[0m                 \u001b[0;32mtry\u001b[0m\u001b[0;34m:\u001b[0m\u001b[0;34m\u001b[0m\u001b[0;34m\u001b[0m\u001b[0m\n\u001b[1;32m     14\u001b[0m                     \u001b[0mdo_return\u001b[0m \u001b[0;34m=\u001b[0m \u001b[0;32mTrue\u001b[0m\u001b[0;34m\u001b[0m\u001b[0;34m\u001b[0m\u001b[0m\n\u001b[0;32m---> 15\u001b[0;31m                     \u001b[0mretval_\u001b[0m \u001b[0;34m=\u001b[0m \u001b[0mag__\u001b[0m\u001b[0;34m.\u001b[0m\u001b[0mconverted_call\u001b[0m\u001b[0;34m(\u001b[0m\u001b[0mag__\u001b[0m\u001b[0;34m.\u001b[0m\u001b[0mld\u001b[0m\u001b[0;34m(\u001b[0m\u001b[0mstep_function\u001b[0m\u001b[0;34m)\u001b[0m\u001b[0;34m,\u001b[0m \u001b[0;34m(\u001b[0m\u001b[0mag__\u001b[0m\u001b[0;34m.\u001b[0m\u001b[0mld\u001b[0m\u001b[0;34m(\u001b[0m\u001b[0mself\u001b[0m\u001b[0;34m)\u001b[0m\u001b[0;34m,\u001b[0m \u001b[0mag__\u001b[0m\u001b[0;34m.\u001b[0m\u001b[0mld\u001b[0m\u001b[0;34m(\u001b[0m\u001b[0miterator\u001b[0m\u001b[0;34m)\u001b[0m\u001b[0;34m)\u001b[0m\u001b[0;34m,\u001b[0m \u001b[0;32mNone\u001b[0m\u001b[0;34m,\u001b[0m \u001b[0mfscope\u001b[0m\u001b[0;34m)\u001b[0m\u001b[0;34m\u001b[0m\u001b[0;34m\u001b[0m\u001b[0m\n\u001b[0m\u001b[1;32m     16\u001b[0m                 \u001b[0;32mexcept\u001b[0m\u001b[0;34m:\u001b[0m\u001b[0;34m\u001b[0m\u001b[0;34m\u001b[0m\u001b[0m\n\u001b[1;32m     17\u001b[0m                     \u001b[0mdo_return\u001b[0m \u001b[0;34m=\u001b[0m \u001b[0;32mFalse\u001b[0m\u001b[0;34m\u001b[0m\u001b[0;34m\u001b[0m\u001b[0m\n",
            "\u001b[0;32m/usr/local/lib/python3.10/dist-packages/keras/engine/training.py\u001b[0m in \u001b[0;36mstep_function\u001b[0;34m(model, iterator)\u001b[0m\n\u001b[1;32m   1266\u001b[0m                 )\n\u001b[1;32m   1267\u001b[0m             \u001b[0mdata\u001b[0m \u001b[0;34m=\u001b[0m \u001b[0mnext\u001b[0m\u001b[0;34m(\u001b[0m\u001b[0miterator\u001b[0m\u001b[0;34m)\u001b[0m\u001b[0;34m\u001b[0m\u001b[0;34m\u001b[0m\u001b[0m\n\u001b[0;32m-> 1268\u001b[0;31m             \u001b[0moutputs\u001b[0m \u001b[0;34m=\u001b[0m \u001b[0mmodel\u001b[0m\u001b[0;34m.\u001b[0m\u001b[0mdistribute_strategy\u001b[0m\u001b[0;34m.\u001b[0m\u001b[0mrun\u001b[0m\u001b[0;34m(\u001b[0m\u001b[0mrun_step\u001b[0m\u001b[0;34m,\u001b[0m \u001b[0margs\u001b[0m\u001b[0;34m=\u001b[0m\u001b[0;34m(\u001b[0m\u001b[0mdata\u001b[0m\u001b[0;34m,\u001b[0m\u001b[0;34m)\u001b[0m\u001b[0;34m)\u001b[0m\u001b[0;34m\u001b[0m\u001b[0;34m\u001b[0m\u001b[0m\n\u001b[0m\u001b[1;32m   1269\u001b[0m             outputs = reduce_per_replica(\n\u001b[1;32m   1270\u001b[0m                 \u001b[0moutputs\u001b[0m\u001b[0;34m,\u001b[0m\u001b[0;34m\u001b[0m\u001b[0;34m\u001b[0m\u001b[0m\n",
            "\u001b[0;32m/usr/local/lib/python3.10/dist-packages/keras/engine/training.py\u001b[0m in \u001b[0;36mrun_step\u001b[0;34m(data)\u001b[0m\n\u001b[1;32m   1247\u001b[0m \u001b[0;34m\u001b[0m\u001b[0m\n\u001b[1;32m   1248\u001b[0m             \u001b[0;32mdef\u001b[0m \u001b[0mrun_step\u001b[0m\u001b[0;34m(\u001b[0m\u001b[0mdata\u001b[0m\u001b[0;34m)\u001b[0m\u001b[0;34m:\u001b[0m\u001b[0;34m\u001b[0m\u001b[0;34m\u001b[0m\u001b[0m\n\u001b[0;32m-> 1249\u001b[0;31m                 \u001b[0moutputs\u001b[0m \u001b[0;34m=\u001b[0m \u001b[0mmodel\u001b[0m\u001b[0;34m.\u001b[0m\u001b[0mtrain_step\u001b[0m\u001b[0;34m(\u001b[0m\u001b[0mdata\u001b[0m\u001b[0;34m)\u001b[0m\u001b[0;34m\u001b[0m\u001b[0;34m\u001b[0m\u001b[0m\n\u001b[0m\u001b[1;32m   1250\u001b[0m                 \u001b[0;31m# Ensure counter is updated only if `train_step` succeeds.\u001b[0m\u001b[0;34m\u001b[0m\u001b[0;34m\u001b[0m\u001b[0m\n\u001b[1;32m   1251\u001b[0m                 \u001b[0;32mwith\u001b[0m \u001b[0mtf\u001b[0m\u001b[0;34m.\u001b[0m\u001b[0mcontrol_dependencies\u001b[0m\u001b[0;34m(\u001b[0m\u001b[0m_minimum_control_deps\u001b[0m\u001b[0;34m(\u001b[0m\u001b[0moutputs\u001b[0m\u001b[0;34m)\u001b[0m\u001b[0;34m)\u001b[0m\u001b[0;34m:\u001b[0m\u001b[0;34m\u001b[0m\u001b[0;34m\u001b[0m\u001b[0m\n",
            "\u001b[0;32m/usr/local/lib/python3.10/dist-packages/keras/engine/training.py\u001b[0m in \u001b[0;36mtrain_step\u001b[0;34m(self, data)\u001b[0m\n\u001b[1;32m   1048\u001b[0m         \u001b[0;31m# Run forward pass.\u001b[0m\u001b[0;34m\u001b[0m\u001b[0;34m\u001b[0m\u001b[0m\n\u001b[1;32m   1049\u001b[0m         \u001b[0;32mwith\u001b[0m \u001b[0mtf\u001b[0m\u001b[0;34m.\u001b[0m\u001b[0mGradientTape\u001b[0m\u001b[0;34m(\u001b[0m\u001b[0;34m)\u001b[0m \u001b[0;32mas\u001b[0m \u001b[0mtape\u001b[0m\u001b[0;34m:\u001b[0m\u001b[0;34m\u001b[0m\u001b[0;34m\u001b[0m\u001b[0m\n\u001b[0;32m-> 1050\u001b[0;31m             \u001b[0my_pred\u001b[0m \u001b[0;34m=\u001b[0m \u001b[0mself\u001b[0m\u001b[0;34m(\u001b[0m\u001b[0mx\u001b[0m\u001b[0;34m,\u001b[0m \u001b[0mtraining\u001b[0m\u001b[0;34m=\u001b[0m\u001b[0;32mTrue\u001b[0m\u001b[0;34m)\u001b[0m\u001b[0;34m\u001b[0m\u001b[0;34m\u001b[0m\u001b[0m\n\u001b[0m\u001b[1;32m   1051\u001b[0m             \u001b[0mloss\u001b[0m \u001b[0;34m=\u001b[0m \u001b[0mself\u001b[0m\u001b[0;34m.\u001b[0m\u001b[0mcompute_loss\u001b[0m\u001b[0;34m(\u001b[0m\u001b[0mx\u001b[0m\u001b[0;34m,\u001b[0m \u001b[0my\u001b[0m\u001b[0;34m,\u001b[0m \u001b[0my_pred\u001b[0m\u001b[0;34m,\u001b[0m \u001b[0msample_weight\u001b[0m\u001b[0;34m)\u001b[0m\u001b[0;34m\u001b[0m\u001b[0;34m\u001b[0m\u001b[0m\n\u001b[1;32m   1052\u001b[0m         \u001b[0mself\u001b[0m\u001b[0;34m.\u001b[0m\u001b[0m_validate_target_and_loss\u001b[0m\u001b[0;34m(\u001b[0m\u001b[0my\u001b[0m\u001b[0;34m,\u001b[0m \u001b[0mloss\u001b[0m\u001b[0;34m)\u001b[0m\u001b[0;34m\u001b[0m\u001b[0;34m\u001b[0m\u001b[0m\n",
            "\u001b[0;32m/usr/local/lib/python3.10/dist-packages/keras/utils/traceback_utils.py\u001b[0m in \u001b[0;36merror_handler\u001b[0;34m(*args, **kwargs)\u001b[0m\n\u001b[1;32m     68\u001b[0m             \u001b[0;31m# To get the full stack trace, call:\u001b[0m\u001b[0;34m\u001b[0m\u001b[0;34m\u001b[0m\u001b[0m\n\u001b[1;32m     69\u001b[0m             \u001b[0;31m# `tf.debugging.disable_traceback_filtering()`\u001b[0m\u001b[0;34m\u001b[0m\u001b[0;34m\u001b[0m\u001b[0m\n\u001b[0;32m---> 70\u001b[0;31m             \u001b[0;32mraise\u001b[0m \u001b[0me\u001b[0m\u001b[0;34m.\u001b[0m\u001b[0mwith_traceback\u001b[0m\u001b[0;34m(\u001b[0m\u001b[0mfiltered_tb\u001b[0m\u001b[0;34m)\u001b[0m \u001b[0;32mfrom\u001b[0m \u001b[0;32mNone\u001b[0m\u001b[0;34m\u001b[0m\u001b[0;34m\u001b[0m\u001b[0m\n\u001b[0m\u001b[1;32m     71\u001b[0m         \u001b[0;32mfinally\u001b[0m\u001b[0;34m:\u001b[0m\u001b[0;34m\u001b[0m\u001b[0;34m\u001b[0m\u001b[0m\n\u001b[1;32m     72\u001b[0m             \u001b[0;32mdel\u001b[0m \u001b[0mfiltered_tb\u001b[0m\u001b[0;34m\u001b[0m\u001b[0;34m\u001b[0m\u001b[0m\n",
            "\u001b[0;32m/usr/local/lib/python3.10/dist-packages/keras/engine/input_spec.py\u001b[0m in \u001b[0;36massert_input_compatibility\u001b[0;34m(input_spec, inputs, layer_name)\u001b[0m\n\u001b[1;32m    278\u001b[0m                     \u001b[0;32mNone\u001b[0m\u001b[0;34m,\u001b[0m\u001b[0;34m\u001b[0m\u001b[0;34m\u001b[0m\u001b[0m\n\u001b[1;32m    279\u001b[0m                 }:\n\u001b[0;32m--> 280\u001b[0;31m                     raise ValueError(\n\u001b[0m\u001b[1;32m    281\u001b[0m                         \u001b[0;34mf'Input {input_index} of layer \"{layer_name}\" is '\u001b[0m\u001b[0;34m\u001b[0m\u001b[0;34m\u001b[0m\u001b[0m\n\u001b[1;32m    282\u001b[0m                         \u001b[0;34mf\"incompatible with the layer: expected axis {axis} \"\u001b[0m\u001b[0;34m\u001b[0m\u001b[0;34m\u001b[0m\u001b[0m\n",
            "\u001b[0;31mValueError\u001b[0m: in user code:\n\n    File \"/usr/local/lib/python3.10/dist-packages/keras/engine/training.py\", line 1284, in train_function  *\n        return step_function(self, iterator)\n    File \"/usr/local/lib/python3.10/dist-packages/keras/engine/training.py\", line 1268, in step_function  **\n        outputs = model.distribute_strategy.run(run_step, args=(data,))\n    File \"/usr/local/lib/python3.10/dist-packages/keras/engine/training.py\", line 1249, in run_step  **\n        outputs = model.train_step(data)\n    File \"/usr/local/lib/python3.10/dist-packages/keras/engine/training.py\", line 1050, in train_step\n        y_pred = self(x, training=True)\n    File \"/usr/local/lib/python3.10/dist-packages/keras/utils/traceback_utils.py\", line 70, in error_handler\n        raise e.with_traceback(filtered_tb) from None\n    File \"/usr/local/lib/python3.10/dist-packages/keras/engine/input_spec.py\", line 280, in assert_input_compatibility\n        raise ValueError(\n\n    ValueError: Exception encountered when calling layer 'sequential_34' (type Sequential).\n    \n    Input 0 of layer \"dense_102\" is incompatible with the layer: expected axis -1 of input shape to have value 3, but received input with shape (100, 28, 28, 1)\n    \n    Call arguments received by layer 'sequential_34' (type Sequential):\n      • inputs=tf.Tensor(shape=(100, 28, 28, 1), dtype=float32)\n      • training=True\n      • mask=None\n"
          ]
        }
      ]
    },
    {
      "cell_type": "code",
      "source": [
        "noise=np.random.normal(size=[10,noise_shape])\n",
        "\n",
        "gen_image = generator.predict(noise)"
      ],
      "metadata": {
        "id": "f5g4_liRZp-H"
      },
      "execution_count": null,
      "outputs": []
    },
    {
      "cell_type": "code",
      "source": [
        "plt.imshow(noise)\n",
        "plt.title('How the noise looks')"
      ],
      "metadata": {
        "id": "WngujlOKZp7M"
      },
      "execution_count": null,
      "outputs": []
    },
    {
      "cell_type": "markdown",
      "source": [
        "**Generator producing images from noise**"
      ],
      "metadata": {
        "id": "B-iSQldtZ1w6"
      }
    },
    {
      "cell_type": "code",
      "source": [
        "fig,axe=plt.subplots(2,5)\n",
        "fig.suptitle('Generated Images from Noise using GANs')\n",
        "idx=0\n",
        "for i in range(2):\n",
        "    for j in range(5):\n",
        "         axe[i,j].imshow(gen_image[idx].reshape(28,28),cmap='gray')\n",
        "         idx+=1"
      ],
      "metadata": {
        "id": "sdreafL4Zp4T"
      },
      "execution_count": null,
      "outputs": []
    },
    {
      "cell_type": "markdown",
      "source": [
        "**GAN using Deep Convolutions**"
      ],
      "metadata": {
        "id": "rE2y2XSyaBGu"
      }
    },
    {
      "cell_type": "code",
      "source": [
        "generator = Sequential()\n",
        "generator.add(Dense(7 * 7 * 128, input_shape=[100]))\n",
        "generator.add(Reshape([7, 7, 128]))\n",
        "generator.add(BatchNormalization())\n",
        "generator.add(Conv2DTranspose(64, kernel_size=5, strides=2, padding=\"same\",\n",
        "                                 activation=\"relu\"))\n",
        "generator.add(BatchNormalization())\n",
        "generator.add(Conv2DTranspose(1, kernel_size=5, strides=2, padding=\"same\",\n",
        "                                 activation=\"tanh\"))"
      ],
      "metadata": {
        "id": "LhOjWJWCZp1u"
      },
      "execution_count": null,
      "outputs": []
    },
    {
      "cell_type": "code",
      "source": [
        "generator.summary()"
      ],
      "metadata": {
        "id": "BAEFkx5vZpzQ"
      },
      "execution_count": null,
      "outputs": []
    },
    {
      "cell_type": "code",
      "source": [
        "discriminator = Sequential()\n",
        "discriminator.add(Conv2D(64, kernel_size=5, strides=2, padding=\"same\",\n",
        "                        activation=LeakyReLU(0.3),\n",
        "                        input_shape=[28, 28, 1]))\n",
        "discriminator.add(Dropout(0.5))\n",
        "discriminator.add(Conv2D(128, kernel_size=5, strides=2, padding=\"same\",\n",
        "                        activation=LeakyReLU(0.3)))\n",
        "discriminator.add(Dropout(0.5))\n",
        "discriminator.add(Flatten())\n",
        "discriminator.add(Dense(1, activation=\"sigmoid\"))"
      ],
      "metadata": {
        "id": "LMAWacKsaGzL"
      },
      "execution_count": null,
      "outputs": []
    },
    {
      "cell_type": "code",
      "source": [
        "discriminator.summary()"
      ],
      "metadata": {
        "id": "3uCNxAIMaKBd"
      },
      "execution_count": null,
      "outputs": []
    },
    {
      "cell_type": "code",
      "source": [
        "GAN =Sequential([generator,discriminator])\n",
        "discriminator.compile(optimizer='adam',loss='binary_crossentropy')\n",
        "discriminator.trainable = False"
      ],
      "metadata": {
        "id": "LFshC4tHaKE_"
      },
      "execution_count": null,
      "outputs": []
    },
    {
      "cell_type": "code",
      "source": [
        "GAN.compile(optimizer='adam',loss='binary_crossentropy')"
      ],
      "metadata": {
        "id": "urlR-AXtaPuK"
      },
      "execution_count": null,
      "outputs": []
    },
    {
      "cell_type": "code",
      "source": [
        "GAN.layers"
      ],
      "metadata": {
        "id": "LqqLEWj6aRmf"
      },
      "execution_count": null,
      "outputs": []
    },
    {
      "cell_type": "code",
      "source": [
        "GAN.summary()"
      ],
      "metadata": {
        "id": "TzaIuxj4aRp-"
      },
      "execution_count": null,
      "outputs": []
    },
    {
      "cell_type": "code",
      "source": [
        "epochs = 150 #vary epoch size as per required to train the model\n",
        "batch_size = 100"
      ],
      "metadata": {
        "id": "XWMw5c5haPxd"
      },
      "execution_count": null,
      "outputs": []
    },
    {
      "cell_type": "code",
      "source": [
        "noise_shape=100"
      ],
      "metadata": {
        "id": "vydSPMtNaP0h"
      },
      "execution_count": null,
      "outputs": []
    },
    {
      "cell_type": "code",
      "source": [
        "with tf.device('/gpu:0'):\n",
        " for epoch in range(epochs):\n",
        "    print(f\"Currently on Epoch {epoch+1}\")\n",
        "\n",
        "\n",
        "    for i in range(X_train.shape[0]//batch_size):\n",
        "\n",
        "        if (i+1)%50 == 0:\n",
        "            print(f\"\\tCurrently on batch number {i+1} of {X_train.shape[0]//batch_size}\")\n",
        "\n",
        "        noise=np.random.normal(size=[batch_size,noise_shape])\n",
        "\n",
        "        gen_image = generator.predict_on_batch(noise)\n",
        "\n",
        "        train_dataset = X_train[i*batch_size:(i+1)*batch_size]\n",
        "\n",
        "          #training discriminator on real images\n",
        "        train_label=np.ones(shape=(batch_size,1))\n",
        "        discriminator.trainable = True\n",
        "        d_loss_real=discriminator.train_on_batch(train_dataset,train_label)\n",
        "\n",
        "        #training discriminator on fake images\n",
        "        train_label=np.zeros(shape=(batch_size,1))\n",
        "        d_loss_fake=discriminator.train_on_batch(gen_image,train_label)\n",
        "\n",
        "\n",
        "        #training generator\n",
        "        noise=np.random.normal(size=[batch_size,noise_shape])\n",
        "        train_label=np.ones(shape=(batch_size,1))\n",
        "        discriminator.trainable = False #while training the generator as combined model,discriminator training should be turned off\n",
        "\n",
        "        d_g_loss_batch =GAN.train_on_batch(noise, train_label)\n",
        "\n",
        "         #plotting generated images at the start and then after every 10 epoch\n",
        "    if epoch % 10 == 0:\n",
        "        samples = 10\n",
        "        x_fake = generator.predict(np.random.normal(loc=0, scale=1, size=(samples, 100)))\n",
        "\n",
        "        for k in range(samples):\n",
        "            plt.subplot(2, 5, k+1)\n",
        "            plt.imshow(x_fake[k].reshape(28, 28), cmap='gray')\n",
        "            plt.xticks([])\n",
        "            plt.yticks([])\n",
        "\n",
        "        plt.tight_layout()\n",
        "        plt.show()\n",
        "\n",
        "\n",
        "print('Training is complete')"
      ],
      "metadata": {
        "id": "_E8-p2_VaKIF"
      },
      "execution_count": null,
      "outputs": []
    },
    {
      "cell_type": "code",
      "source": [
        "noise=np.random.normal(loc=0, scale=1, size=(100,noise_shape))\n",
        "\n",
        "gen_image = generator.predict(noise)"
      ],
      "metadata": {
        "id": "SMNWx3tCaKKh"
      },
      "execution_count": null,
      "outputs": []
    },
    {
      "cell_type": "code",
      "source": [
        "fig,axe=plt.subplots(2,5)\n",
        "fig.suptitle(\"Actual Images\")\n",
        "idx = 0\n",
        "for i in range(2):\n",
        "    for j in range(5):\n",
        "        axe[i,j].imshow(X_train[idx].reshape(28,28),cmap='gray')\n",
        "        idx+=10"
      ],
      "metadata": {
        "id": "QAR2n25laKM3"
      },
      "execution_count": null,
      "outputs": []
    },
    {
      "cell_type": "code",
      "source": [
        "fig,axe=plt.subplots(2,5)\n",
        "fig.suptitle('Generated Images from Noise using DCGANs')\n",
        "idx=0\n",
        "for i in range(2):\n",
        "     for j in range(5):\n",
        "         axe[i,j].imshow(gen_image[idx].reshape(28,28),cmap='gray')\n",
        "         idx+=3"
      ],
      "metadata": {
        "id": "tgD30IcEaG2g"
      },
      "execution_count": null,
      "outputs": []
    },
    {
      "cell_type": "code",
      "source": [],
      "metadata": {
        "id": "Hyxkmkw5aG5l"
      },
      "execution_count": null,
      "outputs": []
    },
    {
      "cell_type": "code",
      "source": [],
      "metadata": {
        "id": "EuZ5OHf8aG8i"
      },
      "execution_count": null,
      "outputs": []
    },
    {
      "cell_type": "code",
      "source": [],
      "metadata": {
        "id": "HOFdHBB6aG_S"
      },
      "execution_count": null,
      "outputs": []
    }
  ]
}