{
  "nbformat": 4,
  "nbformat_minor": 0,
  "metadata": {
    "colab": {
      "provenance": []
    },
    "kernelspec": {
      "name": "python3",
      "display_name": "Python 3"
    },
    "language_info": {
      "name": "python"
    }
  },
  "cells": [
    {
      "cell_type": "code",
      "execution_count": null,
      "metadata": {
        "id": "t3HI8toANVCx"
      },
      "outputs": [],
      "source": [
        "i = 0\n",
        "p = 50\n",
        "r = 7\n",
        "t = 2\n",
        "\n",
        "i = (p*r*t)/100\n",
        "\n"
      ]
    },
    {
      "cell_type": "code",
      "source": [
        "print(i)"
      ],
      "metadata": {
        "colab": {
          "base_uri": "https://localhost:8080/"
        },
        "id": "8h5TKrA1N4dx",
        "outputId": "72f53efa-ebd7-457d-8aeb-e3bf13d828a7"
      },
      "execution_count": null,
      "outputs": [
        {
          "output_type": "stream",
          "name": "stdout",
          "text": [
            "7.0\n"
          ]
        }
      ]
    },
    {
      "cell_type": "code",
      "source": [
        "value = input(\"Enter Value: \")"
      ],
      "metadata": {
        "id": "1MYCmj_qN4ih"
      },
      "execution_count": null,
      "outputs": []
    },
    {
      "cell_type": "code",
      "source": [
        "water_bill = input(\"Enter your water bill: \")\n",
        "gas_bill = (\"Enter your gas bill: \")\n",
        "total_bill = water_bill + gas_bill"
      ],
      "metadata": {
        "colab": {
          "base_uri": "https://localhost:8080/"
        },
        "id": "lGQIG7o3N4mR",
        "outputId": "f3e10dc6-96e6-4492-b06e-d823062fc0e0"
      },
      "execution_count": null,
      "outputs": [
        {
          "name": "stdout",
          "output_type": "stream",
          "text": [
            "Enter your water bill: 100\n"
          ]
        }
      ]
    },
    {
      "cell_type": "code",
      "source": [
        "numbers = [0, 1, 2, 3, 4, 5]\n",
        "print(type(numbers))"
      ],
      "metadata": {
        "colab": {
          "base_uri": "https://localhost:8080/"
        },
        "id": "yzklfqTTPiha",
        "outputId": "ba667d00-e29c-4635-e3f2-42f13dd30996"
      },
      "execution_count": null,
      "outputs": [
        {
          "output_type": "stream",
          "name": "stdout",
          "text": [
            "<class 'list'>\n"
          ]
        }
      ]
    },
    {
      "cell_type": "code",
      "source": [
        "print(numbers)\n",
        "print(numbers[0])\n",
        "print(numbers[4])\n",
        "print(numbers[0:3])\n",
        "print(numbers[-1])\n",
        "print(numbers[-2])"
      ],
      "metadata": {
        "colab": {
          "base_uri": "https://localhost:8080/"
        },
        "id": "Y1iESXcLPilB",
        "outputId": "2ac11ea2-fa4d-4e3b-a42b-deb16d5a397c"
      },
      "execution_count": null,
      "outputs": [
        {
          "output_type": "stream",
          "name": "stdout",
          "text": [
            "[0, 1, 2, 3, 4, 5]\n",
            "0\n",
            "4\n",
            "[0, 1, 2]\n",
            "5\n",
            "4\n"
          ]
        }
      ]
    },
    {
      "cell_type": "code",
      "source": [
        "numbers[0] = 50\n",
        "print(numbers)"
      ],
      "metadata": {
        "colab": {
          "base_uri": "https://localhost:8080/"
        },
        "id": "NFT2ZrfsPinx",
        "outputId": "b82ff821-17d7-46d8-f0cd-6640cede87a6"
      },
      "execution_count": null,
      "outputs": [
        {
          "output_type": "stream",
          "name": "stdout",
          "text": [
            "[50, 1, 2, 3, 4, 5]\n"
          ]
        }
      ]
    },
    {
      "cell_type": "code",
      "source": [
        "numbers.append(5)\n",
        "print(numbers)"
      ],
      "metadata": {
        "colab": {
          "base_uri": "https://localhost:8080/"
        },
        "id": "UjRammM8Piqw",
        "outputId": "898adecc-07e0-42ce-edbc-2a1c9210769b"
      },
      "execution_count": null,
      "outputs": [
        {
          "output_type": "stream",
          "name": "stdout",
          "text": [
            "[50, 1, 2, 3, 4, 5, 5]\n"
          ]
        }
      ]
    },
    {
      "cell_type": "code",
      "source": [
        "numbers.pop()\n",
        "print(numbers)"
      ],
      "metadata": {
        "colab": {
          "base_uri": "https://localhost:8080/"
        },
        "id": "BDgoLRA2Pith",
        "outputId": "b3f80383-5913-40da-f8a3-270352cb277f"
      },
      "execution_count": null,
      "outputs": [
        {
          "output_type": "stream",
          "name": "stdout",
          "text": [
            "[50, 1, 2, 3, 4, 5]\n"
          ]
        }
      ]
    },
    {
      "cell_type": "code",
      "source": [
        "numbers.sort()\n",
        "print(numbers)"
      ],
      "metadata": {
        "colab": {
          "base_uri": "https://localhost:8080/"
        },
        "id": "VcpAkbORN4py",
        "outputId": "a9b5cd97-da6c-4a13-c796-0187125e5f26"
      },
      "execution_count": null,
      "outputs": [
        {
          "output_type": "stream",
          "name": "stdout",
          "text": [
            "[1, 2, 3, 4, 5, 50]\n"
          ]
        }
      ]
    },
    {
      "cell_type": "code",
      "source": [
        "for numbers in numbers:\n",
        "  print(numbers)"
      ],
      "metadata": {
        "colab": {
          "base_uri": "https://localhost:8080/"
        },
        "id": "9SsytzpcWQa6",
        "outputId": "dcf5ba26-7a1c-4369-d767-7aa3b28829e4"
      },
      "execution_count": null,
      "outputs": [
        {
          "output_type": "stream",
          "name": "stdout",
          "text": [
            "1\n",
            "2\n",
            "3\n",
            "4\n",
            "5\n",
            "50\n"
          ]
        }
      ]
    },
    {
      "cell_type": "code",
      "source": [
        "### LIST ###\n",
        "\n",
        "mylist = [\"apple\", \"banana\", \"cherry\"]"
      ],
      "metadata": {
        "id": "-K4V_zM2WQdx"
      },
      "execution_count": null,
      "outputs": []
    },
    {
      "cell_type": "code",
      "source": [
        "thislist = [\"apple\", \"banana\", \"cherry\"]\n",
        "print(thislist)"
      ],
      "metadata": {
        "colab": {
          "base_uri": "https://localhost:8080/"
        },
        "id": "2V5pSY88WQgx",
        "outputId": "2688e958-4e81-49b0-ac24-46b1571ec663"
      },
      "execution_count": null,
      "outputs": [
        {
          "output_type": "stream",
          "name": "stdout",
          "text": [
            "['apple', 'banana', 'cherry']\n"
          ]
        }
      ]
    },
    {
      "cell_type": "code",
      "source": [
        "### Dictionary ###\n",
        "\n",
        "# KEYS : VALUES\n",
        "\n",
        "thisdict = {\n",
        "  \"brand\": \"Ford\",\n",
        "  \"model\": \"Mustang\",\n",
        "  \"year\": 1964\n",
        "}"
      ],
      "metadata": {
        "id": "xrkkkAdCWQji"
      },
      "execution_count": null,
      "outputs": []
    },
    {
      "cell_type": "code",
      "source": [
        "thisdict = {\n",
        "  \"brand\": \"Ford\",\n",
        "  \"model\": \"Mustang\",\n",
        "  \"year\": 1964\n",
        "}\n",
        "print(thisdict)"
      ],
      "metadata": {
        "colab": {
          "base_uri": "https://localhost:8080/"
        },
        "id": "Wv_EU085WQmh",
        "outputId": "6a0178e8-5f24-4c51-be54-d8177cff86d9"
      },
      "execution_count": null,
      "outputs": [
        {
          "output_type": "stream",
          "name": "stdout",
          "text": [
            "{'brand': 'Ford', 'model': 'Mustang', 'year': 1964}\n"
          ]
        }
      ]
    },
    {
      "cell_type": "code",
      "source": [
        "thisdict.keys()"
      ],
      "metadata": {
        "colab": {
          "base_uri": "https://localhost:8080/"
        },
        "id": "yrrmlH7-WQsh",
        "outputId": "24550980-fdd3-44db-d23c-37c564fd3ffa"
      },
      "execution_count": null,
      "outputs": [
        {
          "output_type": "execute_result",
          "data": {
            "text/plain": [
              "dict_keys(['brand', 'model', 'year'])"
            ]
          },
          "metadata": {},
          "execution_count": 32
        }
      ]
    },
    {
      "cell_type": "code",
      "source": [
        "thisdict.values()"
      ],
      "metadata": {
        "colab": {
          "base_uri": "https://localhost:8080/"
        },
        "id": "YLWpRHDLWQpi",
        "outputId": "956c6d36-b9bf-473d-e78b-6924ea38c66e"
      },
      "execution_count": null,
      "outputs": [
        {
          "output_type": "execute_result",
          "data": {
            "text/plain": [
              "dict_values(['Ford', 'Mustang', 1964])"
            ]
          },
          "metadata": {},
          "execution_count": 31
        }
      ]
    },
    {
      "cell_type": "code",
      "source": [
        "thisdict.items()"
      ],
      "metadata": {
        "colab": {
          "base_uri": "https://localhost:8080/"
        },
        "id": "QwJMtwzGWQvh",
        "outputId": "3b01d5fa-7d3b-49b5-e0c0-dc2f592ff3d3"
      },
      "execution_count": null,
      "outputs": [
        {
          "output_type": "execute_result",
          "data": {
            "text/plain": [
              "dict_items([('brand', 'Ford'), ('model', 'Mustang'), ('year', 1964)])"
            ]
          },
          "metadata": {},
          "execution_count": 34
        }
      ]
    },
    {
      "cell_type": "code",
      "source": [
        "thisdict.clear()"
      ],
      "metadata": {
        "id": "Mv1ooZ4sWQyD"
      },
      "execution_count": null,
      "outputs": []
    },
    {
      "cell_type": "code",
      "source": [
        "a = [1, 2, 3, 4, 5, 6, 6, 7, 8, 9, 10]\n",
        "print(a)"
      ],
      "metadata": {
        "colab": {
          "base_uri": "https://localhost:8080/"
        },
        "id": "svEdwPrCWQ0x",
        "outputId": "4f45eee5-1a31-4d53-900f-ffb1ac8a0b71"
      },
      "execution_count": null,
      "outputs": [
        {
          "output_type": "stream",
          "name": "stdout",
          "text": [
            "[1, 2, 3, 4, 5, 6, 6, 7, 8, 9, 10]\n"
          ]
        }
      ]
    },
    {
      "cell_type": "code",
      "source": [
        "b = {\"Hello\", \"World\"}\n",
        "print(b)"
      ],
      "metadata": {
        "colab": {
          "base_uri": "https://localhost:8080/"
        },
        "id": "_nOkTG3Gch2L",
        "outputId": "59389a9a-ae48-468f-bfb5-c3528cd31c87"
      },
      "execution_count": null,
      "outputs": [
        {
          "output_type": "stream",
          "name": "stdout",
          "text": [
            "{'Hello', 'World'}\n"
          ]
        }
      ]
    },
    {
      "cell_type": "code",
      "source": [
        "c = {\"name\": \"Ehsan\", \"age\": \"18\"}\n",
        "print(c)"
      ],
      "metadata": {
        "colab": {
          "base_uri": "https://localhost:8080/"
        },
        "id": "hlXK9AUoch4h",
        "outputId": "ae65f8f3-bd31-497f-ebf9-391d9a9a44ec"
      },
      "execution_count": null,
      "outputs": [
        {
          "output_type": "stream",
          "name": "stdout",
          "text": [
            "{'name': 'Ehsan', 'age': '18'}\n"
          ]
        }
      ]
    },
    {
      "cell_type": "code",
      "source": [
        "a = [1, 2, 3, 4, 5, 6, 6, 7, 8, 9, 10]\n",
        "b = {\"Hello\", \"World\"}\n",
        "c = {\"name\": \"Ehsan\", \"age\": \"18\"}\n",
        "\n"
      ],
      "metadata": {
        "id": "aMaWodKtch7T"
      },
      "execution_count": null,
      "outputs": []
    },
    {
      "cell_type": "markdown",
      "source": [
        "# **Conditions & Branching**"
      ],
      "metadata": {
        "id": "OHL6gZWzePPU"
      }
    },
    {
      "cell_type": "markdown",
      "source": [
        "# Basic If - Else"
      ],
      "metadata": {
        "id": "z6zmVJPxe1f0"
      }
    },
    {
      "cell_type": "code",
      "source": [
        "# For Loop\n",
        "\n",
        "fruits = [\"apple\", \"banana\", \"cherry\"]\n",
        "for x in fruits:\n",
        "  print(x)"
      ],
      "metadata": {
        "colab": {
          "base_uri": "https://localhost:8080/"
        },
        "id": "hs2ZCZ_Se_Jy",
        "outputId": "59980dd6-024b-4b0c-cb77-a95a55f87abc"
      },
      "execution_count": null,
      "outputs": [
        {
          "output_type": "stream",
          "name": "stdout",
          "text": [
            "apple\n",
            "banana\n",
            "cherry\n"
          ]
        }
      ]
    },
    {
      "cell_type": "code",
      "source": [
        "# for x in range(6):\n",
        "\n",
        "for x in range(1 , 6):\n",
        "  print(x)"
      ],
      "metadata": {
        "colab": {
          "base_uri": "https://localhost:8080/"
        },
        "id": "N0lM1nR2e_NS",
        "outputId": "1040fe0d-3d50-414b-cad2-c4b0ed26d406"
      },
      "execution_count": null,
      "outputs": [
        {
          "output_type": "stream",
          "name": "stdout",
          "text": [
            "1\n",
            "2\n",
            "3\n",
            "4\n",
            "5\n"
          ]
        }
      ]
    },
    {
      "cell_type": "code",
      "source": [
        "# While Loop"
      ],
      "metadata": {
        "id": "uKOWqHLbe_Qi"
      },
      "execution_count": null,
      "outputs": []
    },
    {
      "cell_type": "code",
      "source": [
        "\"\"\"\n",
        "---------\n",
        "\"\"\""
      ],
      "metadata": {
        "colab": {
          "base_uri": "https://localhost:8080/",
          "height": 35
        },
        "id": "ps4cZgV4e_Ty",
        "outputId": "4a987a50-5e28-494c-80e6-030063999a82"
      },
      "execution_count": null,
      "outputs": [
        {
          "output_type": "execute_result",
          "data": {
            "text/plain": [
              "'\\n---------\\n'"
            ],
            "application/vnd.google.colaboratory.intrinsic+json": {
              "type": "string"
            }
          },
          "metadata": {},
          "execution_count": 57
        }
      ]
    },
    {
      "cell_type": "code",
      "source": [
        "def is_palindrome(word):\n",
        "    word = word.lower()\n",
        "    word = \"\".join(char for char in word if char.isalnum())\n",
        "    return word == word[::-1]\n",
        "\n",
        "# Test cases\n",
        "print(is_palindrome(\"Maham\"))\n",
        "print(is_palindrome(\"aba\"))\n",
        "print(is_palindrome(\"b\"))\n",
        "print(is_palindrome(\"race car\"))\n",
        "print(is_palindrome(\"Hello\"))\n",
        "print(is_palindrome(\"123\"))\n",
        "print(is_palindrome(\"1001\"))"
      ],
      "metadata": {
        "colab": {
          "base_uri": "https://localhost:8080/"
        },
        "id": "W0DorZTTnqkd",
        "outputId": "511c629f-f1b2-495a-b5c4-0a5f890cd8ef"
      },
      "execution_count": null,
      "outputs": [
        {
          "output_type": "stream",
          "name": "stdout",
          "text": [
            "True\n",
            "True\n",
            "True\n",
            "True\n",
            "False\n",
            "False\n",
            "True\n"
          ]
        }
      ]
    },
    {
      "cell_type": "code",
      "source": [
        "def is_palindrome(word):\n",
        "    word = word.lower()\n",
        "    word = \"\".join(char for char in word if char.isalnum())\n",
        "    return word == word[::-1]\n",
        "\n",
        "user_input = input(\"Enter a word or phrase: \")\n",
        "\n",
        "if is_palindrome(user_input):\n",
        "    print(\"The input is a palindrome.\")\n",
        "else:\n",
        "    print(\"The input is not a palindrome.\")\n"
      ],
      "metadata": {
        "colab": {
          "base_uri": "https://localhost:8080/"
        },
        "id": "R5efll5Mnqnz",
        "outputId": "257c0d6f-8f9d-4817-f7af-b329de14d4d4"
      },
      "execution_count": null,
      "outputs": [
        {
          "output_type": "stream",
          "name": "stdout",
          "text": [
            "Enter a word or phrase: 100\n",
            "The input is not a palindrome.\n"
          ]
        }
      ]
    },
    {
      "cell_type": "code",
      "source": [
        "def is_palindrome(word):\n",
        "    word = word.lower()\n",
        "    word = \"\".join(char for char in word if char.isalnum())\n",
        "    return word == word[::-1]\n",
        "\n",
        "user_input = input(\"Enter a word or phrase: \")\n",
        "\n",
        "if is_palindrome(user_input):\n",
        "    print(\"Yes\")\n",
        "else:\n",
        "    print(\"Not\")\n"
      ],
      "metadata": {
        "id": "at0TioyynqrT"
      },
      "execution_count": null,
      "outputs": []
    },
    {
      "cell_type": "markdown",
      "source": [],
      "metadata": {
        "id": "VmFDJBshrBjV"
      }
    },
    {
      "cell_type": "code",
      "source": [],
      "metadata": {
        "id": "XxsMNV6dnquT"
      },
      "execution_count": null,
      "outputs": []
    },
    {
      "cell_type": "code",
      "source": [],
      "metadata": {
        "id": "V6ZQRFNQjSF7"
      },
      "execution_count": null,
      "outputs": []
    }
  ]
}