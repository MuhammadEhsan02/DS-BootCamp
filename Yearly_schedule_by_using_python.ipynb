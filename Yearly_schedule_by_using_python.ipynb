{
  "nbformat": 4,
  "nbformat_minor": 0,
  "metadata": {
    "colab": {
      "provenance": []
    },
    "kernelspec": {
      "name": "python3",
      "display_name": "Python 3"
    },
    "language_info": {
      "name": "python"
    }
  },
  "cells": [
    {
      "cell_type": "code",
      "execution_count": null,
      "metadata": {
        "colab": {
          "base_uri": "https://localhost:8080/"
        },
        "id": "XtoNH82lovim",
        "outputId": "34172618-c7df-4c98-acec-f61d915329e1"
      },
      "outputs": [
        {
          "output_type": "stream",
          "name": "stdout",
          "text": [
            "Hello World!\n"
          ]
        }
      ],
      "source": [
        "print(\"Hello World!\")"
      ]
    },
    {
      "cell_type": "code",
      "source": [
        "import datetime\n",
        "yearly_schedule = {}\n",
        "\n",
        "current_year = datetime.date.today().year\n",
        "\n",
        "months = [\n",
        "    'January', 'February', 'March', 'April', 'May', 'June',\n",
        "    'July', 'August', 'September', 'October', 'November', 'December'\n",
        "    ]\n",
        "\n",
        "for month in months:\n",
        "    yearly_schedule[month] = []\n",
        "\n",
        "for month in months:\n",
        "    print(f\"Enter tasks for {month}:\")\n",
        "    tasks = input().split(',')\n",
        "    yearly_schedule[month].extend(tasks)\n",
        "\n",
        "print(f\"\\nYearly Schedule for {current_year}:\\n\")\n",
        "for month in months:\n",
        "    tasks = ', '.join(yearly_schedule[month])\n",
        "    print(f\"{month}: {tasks}\")\n"
      ],
      "metadata": {
        "colab": {
          "base_uri": "https://localhost:8080/"
        },
        "id": "vL-95GIdpS_G",
        "outputId": "02d0fb1c-5374-4020-c56c-e43257a40f4b"
      },
      "execution_count": null,
      "outputs": [
        {
          "output_type": "stream",
          "name": "stdout",
          "text": [
            "Enter tasks for January:\n",
            "Python skill\n",
            "Enter tasks for February:\n",
            "b\n",
            "Enter tasks for March:\n",
            "c\n",
            "Enter tasks for April:\n",
            "d\n",
            "Enter tasks for May:\n",
            "\n",
            "Enter tasks for June:\n",
            "e\n",
            "Enter tasks for July:\n",
            "f\n",
            "Enter tasks for August:\n",
            "\n",
            "Enter tasks for September:\n",
            "j\n",
            "Enter tasks for October:\n",
            "k\n",
            "Enter tasks for November:\n",
            "l\n",
            "Enter tasks for December:\n",
            "m\n",
            "\n",
            "Yearly Schedule for 2023:\n",
            "\n",
            "January: Python skill\n",
            "February: b\n",
            "March: c\n",
            "April: d\n",
            "May: \n",
            "June: e\n",
            "July: f\n",
            "August: \n",
            "September: j\n",
            "October: k\n",
            "November: l\n",
            "December: m\n"
          ]
        }
      ]
    },
    {
      "cell_type": "code",
      "source": [
        "months = [\n",
        "    'January', 'February', 'March', 'April', 'May', 'June',\n",
        "    'July', 'August', 'September', 'October', 'November', 'December']\n",
        "\n",
        "for month in months:\n",
        "    print(f\"Processing tasks for {month}:\")\n",
        "\n",
        "    if month in ['January', 'February', 'March']:\n",
        "        print(\" - Perform data collection.\")\n",
        "    elif month in ['April', 'May', 'June']:\n",
        "        print(\" - Clean and preprocess data.\")\n",
        "    elif month in ['July', 'August', 'September']:\n",
        "        print(\" - Perform exploratory data analysis.\")\n",
        "    else:\n",
        "        print(\" - Build and train models.\")\n",
        "\n",
        "    print()\n"
      ],
      "metadata": {
        "colab": {
          "base_uri": "https://localhost:8080/"
        },
        "id": "wgsklsp1pTDS",
        "outputId": "e30fa762-8317-4655-e84f-deb1eff06791"
      },
      "execution_count": null,
      "outputs": [
        {
          "output_type": "stream",
          "name": "stdout",
          "text": [
            "Processing tasks for January:\n",
            " - Perform data collection.\n",
            "\n",
            "Processing tasks for February:\n",
            " - Perform data collection.\n",
            "\n",
            "Processing tasks for March:\n",
            " - Perform data collection.\n",
            "\n",
            "Processing tasks for April:\n",
            " - Clean and preprocess data.\n",
            "\n",
            "Processing tasks for May:\n",
            " - Clean and preprocess data.\n",
            "\n",
            "Processing tasks for June:\n",
            " - Clean and preprocess data.\n",
            "\n",
            "Processing tasks for July:\n",
            " - Perform exploratory data analysis.\n",
            "\n",
            "Processing tasks for August:\n",
            " - Perform exploratory data analysis.\n",
            "\n",
            "Processing tasks for September:\n",
            " - Perform exploratory data analysis.\n",
            "\n",
            "Processing tasks for October:\n",
            " - Build and train models.\n",
            "\n",
            "Processing tasks for November:\n",
            " - Build and train models.\n",
            "\n",
            "Processing tasks for December:\n",
            " - Build and train models.\n",
            "\n"
          ]
        }
      ]
    },
    {
      "cell_type": "code",
      "source": [
        "months = ['January', 'February', 'March', 'April', 'May', 'June', 'July', 'August', 'September', 'October', 'November', 'December']\n",
        "tasks = {}\n",
        "\n",
        "for month in months:\n",
        "    print(f\"--- {month} ---\")\n",
        "    num_of_days = int(input(f\"How many days are there in {month}? \"))\n",
        "\n",
        "    for day in range(1, num_of_days + 1):\n",
        "        task = input(f\"Enter task for {month} {day}: \")\n",
        "        tasks[f\"{month} {day}\"] = task\n",
        "\n",
        "    print()\n",
        "\n",
        "print(\"--- Yearly Schedule ---\")\n",
        "for date, task in tasks.items():\n",
        "    print(f\"{date}: {task}\")\n",
        "\n"
      ],
      "metadata": {
        "colab": {
          "base_uri": "https://localhost:8080/"
        },
        "id": "j8e8zSknpTGx",
        "outputId": "91fb4a76-131f-4445-fc36-a634f12b771e"
      },
      "execution_count": null,
      "outputs": [
        {
          "output_type": "stream",
          "name": "stdout",
          "text": [
            "--- January ---\n",
            "How many days are there in January? 1\n",
            "Enter task for January 1: 2\n",
            "\n",
            "--- February ---\n",
            "How many days are there in February? 1\n",
            "Enter task for February 1: 2\n",
            "\n",
            "--- March ---\n",
            "How many days are there in March? 1\n",
            "Enter task for March 1: 2\n",
            "\n",
            "--- April ---\n",
            "How many days are there in April? 1\n",
            "Enter task for April 1: 2\n",
            "\n",
            "--- May ---\n",
            "How many days are there in May? 1\n",
            "Enter task for May 1: 2\n",
            "\n",
            "--- June ---\n",
            "How many days are there in June? 1\n",
            "Enter task for June 1: 2\n",
            "\n",
            "--- July ---\n",
            "How many days are there in July? 1\n",
            "Enter task for July 1: 2\n",
            "\n",
            "--- August ---\n",
            "How many days are there in August? 1\n",
            "Enter task for August 1: 2\n",
            "\n",
            "--- September ---\n",
            "How many days are there in September? 1\n",
            "Enter task for September 1: 2\n",
            "\n",
            "--- October ---\n",
            "How many days are there in October? 1\n",
            "Enter task for October 1: 2\n",
            "\n",
            "--- November ---\n",
            "How many days are there in November? 1\n",
            "Enter task for November 1: 2\n",
            "\n",
            "--- December ---\n",
            "How many days are there in December? 1\n",
            "Enter task for December 1: 2\n",
            "\n",
            "--- Yearly Schedule ---\n",
            "January 1: 2\n",
            "February 1: 2\n",
            "March 1: 2\n",
            "April 1: 2\n",
            "May 1: 2\n",
            "June 1: 2\n",
            "July 1: 2\n",
            "August 1: 2\n",
            "September 1: 2\n",
            "October 1: 2\n",
            "November 1: 2\n",
            "December 1: 2\n"
          ]
        }
      ]
    }
  ]
}