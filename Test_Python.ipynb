{
  "nbformat": 4,
  "nbformat_minor": 0,
  "metadata": {
    "colab": {
      "provenance": []
    },
    "kernelspec": {
      "name": "python3",
      "display_name": "Python 3"
    },
    "language_info": {
      "name": "python"
    }
  },
  "cells": [
    {
      "cell_type": "markdown",
      "source": [
        "# **Basic**"
      ],
      "metadata": {
        "id": "o2Wh4JBM26jX"
      }
    },
    {
      "cell_type": "markdown",
      "source": [
        "# **Q1**\n",
        "\n",
        "Create a function that takes two integers as input and returns their:\n",
        "1. Sum\n",
        "2. Difference\n",
        "3. Product"
      ],
      "metadata": {
        "id": "4QnpbpRc277o"
      }
    },
    {
      "cell_type": "code",
      "source": [
        "def calculate_operations(a, b):\n",
        "    sum = a + b\n",
        "    difference = a - b\n",
        "    product = a * b\n",
        "    return sum, difference, product\n",
        "\n",
        "num1 = int(input(\"Enter the first value: \"))\n",
        "num2 = int(input(\"Enter the second value: \"))\n",
        "\n",
        "sum, difference, product = calculate_operations(num1, num2)\n",
        "\n",
        "print(sum)\n",
        "print(difference)\n",
        "print(product)"
      ],
      "metadata": {
        "id": "eplGmfwF3NdA"
      },
      "execution_count": null,
      "outputs": []
    },
    {
      "cell_type": "markdown",
      "source": [
        "# **Q2**\n",
        "\n",
        "Write a function that asks the user how many values the user wants to enter, then takes that many values as input and puts them in a list. Then it returns the sum of those values."
      ],
      "metadata": {
        "id": "d7Qvqfjt3Nur"
      }
    },
    {
      "cell_type": "code",
      "source": [
        "def calculate_sum_of_values():\n",
        "    num_value = int(input(\"How many values do you want to enter? \"))\n",
        "    list = []\n",
        "    for i in range(num_value):\n",
        "        value = float(input(f\"Enter value {i + 1}: \"))\n",
        "        list.append(value)\n",
        "    return sum(list)\n",
        "\n",
        "result = calculate_sum_of_values()\n",
        "print(\"The sum total entered values is:\", result)"
      ],
      "metadata": {
        "id": "mhHXsPQk3ioK",
        "outputId": "178e434a-f138-4323-a8c5-5e64a79d6b3b",
        "colab": {
          "base_uri": "https://localhost:8080/"
        }
      },
      "execution_count": null,
      "outputs": [
        {
          "output_type": "stream",
          "name": "stdout",
          "text": [
            "How many values do you want to enter? 5\n",
            "Enter value 1: 5\n",
            "Enter value 2: 5\n",
            "Enter value 3: 2\n",
            "Enter value 4: 2\n",
            "Enter value 5: 1\n",
            "The sum total entered values is: 15.0\n"
          ]
        }
      ]
    },
    {
      "cell_type": "markdown",
      "source": [
        "# **Q3**\n",
        "\n",
        "Implement a function that divides two numbers, but handles the ZeroDivisionError by returning a custom error message."
      ],
      "metadata": {
        "id": "cXZBiE-b3jBx"
      }
    },
    {
      "cell_type": "code",
      "source": [
        "x = int(input(\"Enter Value: \"))\n",
        "y = int(input(\"Enter Value: \"))\n",
        "\n",
        "def Division_operations(x, y):\n",
        "  try:\n",
        "    div_result = x / y\n",
        "  except ZeroDivisionError:\n",
        "   print(\"Error: Division by zero!\")\n",
        "  return None\n",
        "\n",
        "divide_num = Division_operations(x, y)\n",
        "\n",
        "if divide_num is not None:\n",
        "  print(\"divide:\", divide_num)"
      ],
      "metadata": {
        "id": "YM1i8gLb3nnw",
        "outputId": "4900f964-a1a0-412b-a1de-62c227259d2f",
        "colab": {
          "base_uri": "https://localhost:8080/"
        }
      },
      "execution_count": null,
      "outputs": [
        {
          "output_type": "stream",
          "name": "stdout",
          "text": [
            "Enter Value: 10\n",
            "Enter Value: 0\n",
            "Error: Division by zero!\n"
          ]
        }
      ]
    },
    {
      "cell_type": "markdown",
      "source": [
        "# **Q4**\n",
        "\n",
        "Write a Python program to print the multiplication table of a given number.\n",
        "\n",
        "Sample Input: 4\n",
        "Sample Output : 4,8,12,16,20,24,28,32,36,40\n"
      ],
      "metadata": {
        "id": "4NWIgrRo3oKH"
      }
    },
    {
      "cell_type": "code",
      "source": [
        "x = int(input(\"Please Inter Your Value: \"))\n",
        "print(f\"Multiplication table of {x} is:\")\n",
        "\n",
        "for i in range(1,11):\n",
        "  print(f\"{int(x)} * {i} = {int(x)*i}\")"
      ],
      "metadata": {
        "id": "WCBy8I3f34Jf",
        "outputId": "b7477c62-620f-4545-91bb-6b1237116a2d",
        "colab": {
          "base_uri": "https://localhost:8080/"
        }
      },
      "execution_count": null,
      "outputs": [
        {
          "output_type": "stream",
          "name": "stdout",
          "text": [
            "Please Inter Your Value: 2\n",
            "Multiplication table of 2 is:\n",
            "2 * 1 = 2\n",
            "2 * 2 = 4\n",
            "2 * 3 = 6\n",
            "2 * 4 = 8\n",
            "2 * 5 = 10\n",
            "2 * 6 = 12\n",
            "2 * 7 = 14\n",
            "2 * 8 = 16\n",
            "2 * 9 = 18\n",
            "2 * 10 = 20\n"
          ]
        }
      ]
    },
    {
      "cell_type": "markdown",
      "source": [
        "# **Q5**\n",
        "\n",
        "Write a Python program that takes a user's age as input and prints whether they are a child (0-12), teenager (13-19), adult (20-60), or senior citizen (61-110)."
      ],
      "metadata": {
        "id": "XkOphu-U34yo"
      }
    },
    {
      "cell_type": "code",
      "source": [
        "def age_category(age):\n",
        "    if age >= 0 and age <= 12:\n",
        "        return \"child\"\n",
        "    elif age >= 13 and age <= 19:\n",
        "        return \"teenager\"\n",
        "    elif age >= 20 and age <= 60:\n",
        "        return \"adult\"\n",
        "    elif age >= 61 and age <= 110:\n",
        "        return \"senior citizen\"\n",
        "    else:\n",
        "        return \"Invalid age input\"\n",
        "\n",
        "age = int(input(\"Enter your age: \"))\n",
        "category = age_category(age)\n",
        "print(\"You are a\", category)"
      ],
      "metadata": {
        "id": "LWudiDUY4GUP",
        "outputId": "0fe48d4d-bd38-420a-e035-62f30aef88a8",
        "colab": {
          "base_uri": "https://localhost:8080/"
        }
      },
      "execution_count": null,
      "outputs": [
        {
          "output_type": "stream",
          "name": "stdout",
          "text": [
            "Enter your age: 199\n",
            "You are a Invalid age input\n"
          ]
        }
      ]
    },
    {
      "cell_type": "markdown",
      "source": [
        "# **Advanced**"
      ],
      "metadata": {
        "id": "j97N2Ysh23XP"
      }
    },
    {
      "cell_type": "markdown",
      "source": [
        "# **Q1.**\n",
        "\n",
        "Given a list, write a Python program to swap first and last element of the list.\n",
        "\n",
        "Examples:\n",
        "\n",
        "Input : [12, 35, 9, 56, 24]\n",
        "Output : [24, 35, 9, 56, 12]\n",
        "\n",
        "Input : [1, 2, 3]\n",
        "Output : [3, 2, 1]"
      ],
      "metadata": {
        "id": "8_yC9fxXxu3Q"
      }
    },
    {
      "cell_type": "code",
      "execution_count": null,
      "metadata": {
        "id": "hCKz-ssXxTCK",
        "outputId": "6771280d-2873-48f2-82cf-71fe20ec89df",
        "colab": {
          "base_uri": "https://localhost:8080/"
        }
      },
      "outputs": [
        {
          "output_type": "stream",
          "name": "stdout",
          "text": [
            "[24, 35, 9, 56, 12]\n",
            "[3, 2, 1]\n"
          ]
        }
      ],
      "source": [
        "def swap_first_and_last(lst):\n",
        "    if len(lst) >= 2:\n",
        "        lst[0], lst[-1] = lst[-1], lst[0]\n",
        "    return lst\n",
        "\n",
        "input = [12, 35, 9, 56, 24]\n",
        "output = swap_first_and_last(input)\n",
        "print(output)\n",
        "input = [1, 2, 3]\n",
        "output = swap_first_and_last(input)\n",
        "print(output)"
      ]
    },
    {
      "cell_type": "markdown",
      "source": [
        "# **Q2**\n",
        "\n",
        "Given a string. the task is to check if the string is palindrome or not. A string is said to be a palindrome string if one half of the string is the reverse of the other half or if a string appears same when read forward or backward.\n",
        "\n",
        "Example:\n",
        "\n",
        "Input: khokho\n",
        "\n",
        "Output:\n",
        "\n",
        "The entered string is not palindrome\n",
        "\n",
        "Input:amaama\n",
        "\n",
        "Output:\n",
        "\n",
        "The entered string is palindrome"
      ],
      "metadata": {
        "id": "n5NdjV0ex2cG"
      }
    },
    {
      "cell_type": "code",
      "source": [
        "def is_palindrome(input_string):\n",
        "    reversed_string = input_string[::-1]\n",
        "    if input_string == reversed_string:\n",
        "        return True\n",
        "    else:\n",
        "        return False\n",
        "\n",
        "input_str1 = 'khokho'\n",
        "input_str2 = 'amaama'\n",
        "\n",
        "if is_palindrome(input_str1):\n",
        "    print(\"The entered string is palindrome.\")\n",
        "else:\n",
        "    print(\"The entered string is not palindrome.\")\n",
        "\n",
        "if is_palindrome(input_str2):\n",
        "    print(\"The entered string is palindrome.\")\n",
        "else:\n",
        "    print(\"The entered string is not palindrome.\")\n"
      ],
      "metadata": {
        "id": "6RdEhBtcyCY4",
        "outputId": "bd7ad40c-ebf5-4006-a8d4-fe845e9027b7",
        "colab": {
          "base_uri": "https://localhost:8080/"
        }
      },
      "execution_count": null,
      "outputs": [
        {
          "output_type": "stream",
          "name": "stdout",
          "text": [
            "The entered string is not palindrome.\n",
            "The entered string is palindrome.\n"
          ]
        }
      ]
    },
    {
      "cell_type": "markdown",
      "source": [
        "# **Q3**\n",
        "\n",
        "Given a string, the task is to write a Python program to perform sort by maximum occurring character.\n",
        "\n",
        "Input : test_list = ['apple', 'doctor' , 'sad']\n",
        "\n",
        "Output : ['sad', 'apple', 'doctor']\n",
        "\n",
        "\n",
        "Input : test_list = ['llama', 'nlp' , 'business']\n",
        "\n",
        "Output : ['nlp', 'llama' , 'business']  \n"
      ],
      "metadata": {
        "id": "1c8amwxVyOsI"
      }
    },
    {
      "cell_type": "code",
      "source": [
        "def max_occurrence(word):\n",
        "    char_count = {}\n",
        "    for char in word:\n",
        "        char_count[char] = char_count.get(char, 0) + 1\n",
        "    max_occurred_char = max(char_count, key=char_count.get)\n",
        "    return char_count[max_occurred_char]\n",
        "\n",
        "def sort_by_max_occurrence(test_list):\n",
        "    sorted_list = sorted(test_list, key=max_occurrence, reverse=True)\n",
        "    return sorted_list\n",
        "\n",
        "input_list1 = ['apple', 'doctor', 'sad']\n",
        "output_list1 = sort_by_max_occurrence(input_list1)\n",
        "print(output_list1)\n",
        "\n",
        "input_list2 = ['llama', 'nlp', 'business']\n",
        "output_list2 = sort_by_max_occurrence(input_list2)\n",
        "print(output_list2)"
      ],
      "metadata": {
        "id": "butZY0i-y-XA",
        "outputId": "4d17f475-1c91-447b-8ccd-7853da9bb58b",
        "colab": {
          "base_uri": "https://localhost:8080/"
        }
      },
      "execution_count": null,
      "outputs": [
        {
          "output_type": "stream",
          "name": "stdout",
          "text": [
            "['apple', 'doctor', 'sad']\n",
            "['business', 'llama', 'nlp']\n"
          ]
        }
      ]
    },
    {
      "cell_type": "markdown",
      "source": [
        "# **Q4**\n",
        "\n",
        "Find and segregate positive and negative integers into two separate lists from a given string.\n",
        "\n",
        "Input: 'asdfg4-1is5best-8'\n",
        "\n",
        "Output : [ 4,5 ], [ -1,-8 ]"
      ],
      "metadata": {
        "id": "CMEMghEezE6n"
      }
    },
    {
      "cell_type": "code",
      "source": [
        "import re\n",
        "\n",
        "def segregate_integers(input_string):\n",
        "    all_numbers = [int(num) for num in re.findall(r'-?\\d+', input_string)]\n",
        "    positive = [num for num in all_numbers if num >= 0]\n",
        "    negative = [num for num in all_numbers if num < 0]\n",
        "    return positive, negative\n",
        "\n",
        "input_string = 'asdfg4 -1 is5 best-8'\n",
        "positive, negative = segregate_integers(input_string)\n",
        "print(\"Output:\", positive, \",\", negative)"
      ],
      "metadata": {
        "id": "JCbMG-Glzu3_",
        "outputId": "2965303a-07c9-4be4-aed6-7d33d42a047c",
        "colab": {
          "base_uri": "https://localhost:8080/"
        }
      },
      "execution_count": null,
      "outputs": [
        {
          "output_type": "stream",
          "name": "stdout",
          "text": [
            "Output: [4, 5] , [-1, -8]\n"
          ]
        }
      ]
    },
    {
      "cell_type": "markdown",
      "source": [
        "# **Q5**\n",
        "\n",
        "Given two sorted lists, return the median of the two sorted arrays.\n",
        "\n",
        "Hint: Merge the two lists.\n",
        "\n",
        "Input: nums1 = [1,3], nums2 = [2]\n",
        "\n",
        "Output: 2.00000\n",
        "\n",
        "Input: nums1 = [1,2], nums2 = [3,4]\n",
        "\n",
        "Output: 2.50000"
      ],
      "metadata": {
        "id": "lumIV1Qpzz--"
      }
    },
    {
      "cell_type": "code",
      "source": [
        "def find_median_sorted_arrays(num1, num2):\n",
        "    merged_list = sorted(num1 + num2)\n",
        "    total_length = len(merged_list)\n",
        "    if total_length % 2 == 0:\n",
        "        median = (merged_list[total_length // 2 - 1] + merged_list[total_length // 2]) / 2\n",
        "    else:\n",
        "        median = merged_list[total_length // 2]\n",
        "    return median\n",
        "\n",
        "num1 = [1, 3]\n",
        "num2 = [2]\n",
        "result = find_median_sorted_arrays(num1, num2)\n",
        "print(result)\n",
        "num1 = [1, 2]\n",
        "num2 = [3, 4]\n",
        "result = find_median_sorted_arrays(num1, num2)\n",
        "print(result)"
      ],
      "metadata": {
        "id": "Vnd-z4Nl0WcQ",
        "outputId": "9643dbb1-2a2b-44f5-d0d8-3bc3b22d843f",
        "colab": {
          "base_uri": "https://localhost:8080/"
        }
      },
      "execution_count": null,
      "outputs": [
        {
          "output_type": "stream",
          "name": "stdout",
          "text": [
            "2\n",
            "2.5\n"
          ]
        }
      ]
    }
  ]
}