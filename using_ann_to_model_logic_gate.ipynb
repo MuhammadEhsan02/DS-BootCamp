{
  "cells": [
    {
      "metadata": {
        "_uuid": "8f2839f25d086af736a60e9eeb907d3b93b6e0e5",
        "_cell_guid": "b1076dfc-b9ad-4769-8c92-a6c4dae69d19",
        "trusted": true,
        "id": "tU_CrViC2VS7"
      },
      "cell_type": "code",
      "source": [
        "# This Python 3 environment comes with many helpful analytics libraries installed\n",
        "# It is defined by the kaggle/python docker image: https://github.com/kaggle/docker-python\n",
        "# For example, here's several helpful packages to load in\n",
        "\n",
        "import numpy as np # linear algebra\n",
        "import pandas as pd # data processing, CSV file I/O (e.g. pd.read_csv)\n",
        "\n",
        "# Input data files are available in the \"../input/\" directory.\n",
        "# For example, running this (by clicking run or pressing Shift+Enter) will list the files in the input directory\n",
        "\n",
        "# Any results you write to the current directory are saved as output."
      ],
      "execution_count": null,
      "outputs": []
    },
    {
      "metadata": {
        "_cell_guid": "79c7e3d0-c299-4dcb-8224-4455121ee9b0",
        "_uuid": "d629ff2d2480ee46fbb7e2d37f6b5fab8052498a",
        "trusted": true,
        "id": "kmBm2-TQ2VS_"
      },
      "cell_type": "code",
      "source": [
        "test_input_and=np.array([[0,0],[0,1],[1,0],[1,1]])\n",
        "correct_outputs_and=[False,False,False,True]\n",
        "weight1_and=1.0\n",
        "weight2_and=1.0\n",
        "bias_and=-2.0"
      ],
      "execution_count": null,
      "outputs": []
    },
    {
      "metadata": {
        "trusted": true,
        "_uuid": "8cd6b19115e042d5a0a9300306991edac007d2ea",
        "id": "-ByR8Fqw2VTA"
      },
      "cell_type": "code",
      "source": [
        "test_input_or=np.array([[0,0],[0,1],[1,0],[1,1]])\n",
        "correct_outputs_or=[False,True,True,True]\n",
        "\n",
        "weight1_or=2.0\n",
        "weight2_or=2.0\n",
        "bias_or=-1.0"
      ],
      "execution_count": null,
      "outputs": []
    },
    {
      "metadata": {
        "trusted": true,
        "_uuid": "b40c00176c69ec36ff803bd46244f99913d5cf08",
        "id": "lc6MeeIy2VTB"
      },
      "cell_type": "code",
      "source": [
        "test_input_not=np.array([[0,0],[0,1],[1,0],[1,1]])\n",
        "correct_outputs_not=[True, False, True, False]\n",
        "\n",
        "weight1_not=1.0\n",
        "weight2_not=-2.0\n",
        "bias_not=0.0\n"
      ],
      "execution_count": null,
      "outputs": []
    },
    {
      "metadata": {
        "trusted": true,
        "_uuid": "570e1cc50299e19ea418d48a6f58a7c85f9040a5",
        "id": "H7QG37UP2VTC"
      },
      "cell_type": "code",
      "source": [
        "def train_Model_Logic(weight1,weight2,test_inputs,correct_outputs,bias,name=\"And\"):\n",
        "    outputs=[]\n",
        "    linear_combination=np.multiply(weight1,test_inputs[:,:1])+np.multiply(weight2,test_inputs[:,1:2])+bias\n",
        "    output=(linear_combination>=0)\n",
        "    num_wrong=np.array_equal(output,correct_outputs)\n",
        "    #outputs.append([test_inputs[:,:1].T,test_inputs[:,1:2].T,correct_outputs.T,linear_combination.T,output.T])\n",
        "    out={'Input1':test_inputs[:,:1].ravel().T,'Input2':test_inputs[:,1:2].ravel().T,'Correct Output':correct_outputs,'linear_combination':linear_combination.T.ravel(),'output':output.T.ravel()}\n",
        "   # output_frame=pd.DataFrame(outputs,columns=['Input1','Input2','Correct Output','linear_combination','output'])\n",
        "    frame=pd.DataFrame(out)\n",
        "    if not num_wrong:\n",
        "        print(\"Successfully build {0} logic gate\".format(name))\n",
        "    else:\n",
        "        print(\"Something went wrong\")\n",
        "    return frame"
      ],
      "execution_count": null,
      "outputs": []
    },
    {
      "metadata": {
        "trusted": true,
        "_uuid": "1ab64e9e32f27c5c325358b639dfb6f09f1fd564",
        "id": "aSwPrgTP2VTD"
      },
      "cell_type": "code",
      "source": [
        "output_and=train_Model_Logic(weight1_and,weight2_and,test_input_and,correct_outputs_and,bias_and)\n",
        "\n",
        "output_and"
      ],
      "execution_count": null,
      "outputs": []
    },
    {
      "metadata": {
        "trusted": true,
        "_uuid": "fd0595ceb522b5b7f07f8aca49ed51d25b9a7deb",
        "scrolled": true,
        "id": "jm5cRXfN2VTD"
      },
      "cell_type": "code",
      "source": [
        "output_or=train_Model_Logic(weight1_or,weight2_or,test_input_or,correct_outputs_or,bias_and,name='OR')\n",
        "output_or"
      ],
      "execution_count": null,
      "outputs": []
    },
    {
      "metadata": {
        "trusted": true,
        "_uuid": "7ff4bfe570f3ace0b0efdba3a01f062062f4ae1a",
        "id": "hjBd_TCp2VTE"
      },
      "cell_type": "code",
      "source": [
        "output_not=train_Model_Logic(weight1_not,weight2_not,test_input_not,correct_outputs_not,bias_not,name=\"NOT\")\n",
        "output_not"
      ],
      "execution_count": null,
      "outputs": []
    },
    {
      "metadata": {
        "trusted": true,
        "_uuid": "323760de5c77c2d7f23432790aeeaf75e79b7812",
        "id": "rdOLkdFs2VTE"
      },
      "cell_type": "code",
      "source": [],
      "execution_count": null,
      "outputs": []
    }
  ],
  "metadata": {
    "kernelspec": {
      "display_name": "Python 3",
      "language": "python",
      "name": "python3"
    },
    "language_info": {
      "name": "python",
      "version": "3.6.6",
      "mimetype": "text/x-python",
      "codemirror_mode": {
        "name": "ipython",
        "version": 3
      },
      "pygments_lexer": "ipython3",
      "nbconvert_exporter": "python",
      "file_extension": ".py"
    },
    "colab": {
      "provenance": []
    }
  },
  "nbformat": 4,
  "nbformat_minor": 0
}